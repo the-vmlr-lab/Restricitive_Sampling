{
  "nbformat": 4,
  "nbformat_minor": 0,
  "metadata": {
    "colab": {
      "provenance": []
    },
    "kernelspec": {
      "name": "python3",
      "display_name": "Python 3"
    },
    "language_info": {
      "name": "python"
    }
  },
  "cells": [
    {
      "cell_type": "code",
      "execution_count": 2,
      "metadata": {
        "id": "CobWGnU-0ezr"
      },
      "outputs": [],
      "source": [
        "import sys\n",
        "\n",
        "sys.path.append(\"../\")\n",
        "import os\n",
        "import random\n",
        "import tqdm\n",
        "import matplotlib.pyplot as plt\n",
        "from matplotlib.lines import Line2D\n",
        "import numpy as np\n",
        "\n",
        "## Torch imports\n",
        "import torch\n",
        "import torch.nn as nn\n",
        "from torch.utils.data import DataLoader, Dataset\n",
        "from torch.optim import lr_scheduler, Adam, SGD\n",
        "\n",
        "## Torchvision imports\n",
        "from torchvision import transforms\n",
        "from torchvision.datasets import CIFAR10\n",
        "import torchvision"
      ]
    },
    {
      "cell_type": "code",
      "source": [
        "# choices=list(np.load('test.npy'))\n",
        "mask= torch.zeros(32 * 32)\n",
        "# mask[choices] = 1\n",
        "mask          = mask.view(32,32)\n",
        "mask[:, 0:16] = 1\n",
        "plt.imshow(mask)\n",
        "plt.colorbar()"
      ],
      "metadata": {
        "colab": {
          "base_uri": "https://localhost:8080/",
          "height": 453
        },
        "id": "NMUMRexL2ZoT",
        "outputId": "55d1a0e4-8205-4225-da57-286146f944d4"
      },
      "execution_count": 3,
      "outputs": [
        {
          "output_type": "execute_result",
          "data": {
            "text/plain": [
              "<matplotlib.colorbar.Colorbar at 0x7f4792613820>"
            ]
          },
          "metadata": {},
          "execution_count": 3
        },
        {
          "output_type": "display_data",
          "data": {
            "text/plain": [
              "<Figure size 640x480 with 2 Axes>"
            ],
            "image/png": "[encoded data removed]"
          },
          "metadata": {}
        }
      ]
    },
    {
      "cell_type": "code",
      "source": [
        "%mkdir masks\n",
        "%mkdir labels"
      ],
      "metadata": {
        "id": "uwajsyN3GYAV"
      },
      "execution_count": null,
      "outputs": []
    },
    {
      "cell_type": "markdown",
      "source": [
        "# Dataset Creation"
      ],
      "metadata": {
        "id": "hmQPz3cT5RcH"
      }
    },
    {
      "cell_type": "code",
      "source": [
        "ch = np.random.randint(low=0, high=1024, size=512)\n",
        "mask1 = torch.zeros(32 * 32)\n",
        "mask1[ch] = 1\n",
        "mask1          = mask1.view(32,32)\n",
        "plt.imshow(mask1)\n",
        "plt.colorbar()\n",
        "torch.save(mask1, \"masks/random_mask1\")"
      ],
      "metadata": {
        "colab": {
          "base_uri": "https://localhost:8080/",
          "height": 269
        },
        "id": "Y0in-YGlYfla",
        "outputId": "c4e9fb12-8a1d-47bc-b4a9-e05c9eb20944"
      },
      "execution_count": null,
      "outputs": [
        {
          "output_type": "display_data",
          "data": {
            "text/plain": [
              "<Figure size 432x288 with 2 Axes>"
            ],
            "image/png": "[encoded data removed]"
          },
          "metadata": {
            "needs_background": "light"
          }
        }
      ]
    },
    {
      "cell_type": "code",
      "source": [
        "ch = np.random.randint(low=0, high=1024, size=512)\n",
        "mask1 = torch.zeros(32 * 32)\n",
        "mask1[ch] = 1\n",
        "mask1          = mask1.view(32,32)\n",
        "plt.imshow(mask1)\n",
        "plt.colorbar()\n",
        "torch.save(mask1, \"masks/random_mask1\")\n",
        "torch.save(mask,\"labels/oracle_mask1\")"
      ],
      "metadata": {
        "colab": {
          "base_uri": "https://localhost:8080/",
          "height": 269
        },
        "id": "xB491jR2M8Vf",
        "outputId": "81031c15-1b6b-4d55-ef94-d1377f859b42"
      },
      "execution_count": null,
      "outputs": [
        {
          "output_type": "display_data",
          "data": {
            "text/plain": [
              "<Figure size 432x288 with 2 Axes>"
            ],
            "image/png": "[encoded data removed]"
          },
          "metadata": {
            "needs_background": "light"
          }
        }
      ]
    },
    {
      "cell_type": "code",
      "source": [
        "class NewDataset(Dataset):\n",
        "    def __init__(\n",
        "        self,\n",
        "        mask_path,\n",
        "        label_path,\n",
        "    ):\n",
        "        self.mask_path  = mask_path\n",
        "        self.labels_path = label_path\n",
        "        self.len = len(os.listdir(self.mask_path))\n",
        "\n",
        "    def __len__(self):\n",
        "        return self.len\n",
        "\n",
        "    def __getitem__(self, idx):\n",
        "        ls_mask = sorted(os.listdir(self.mask_path))\n",
        "        ls_label = sorted(os.listdir(self.labels_path))\n",
        "        \n",
        "        mask_file_path = os.path.join(self.mask_path, ls_mask[idx])\n",
        "        mask_tensor = torch.load(mask_file_path)\n",
        "\n",
        "        label_file_path = os.path.join(self.labels_path, ls_label[idx])\n",
        "        label = torch.load(label_file_path)\n",
        "\n",
        "        return mask_tensor, label"
      ],
      "metadata": {
        "id": "q3TCtxb5J5Z5"
      },
      "execution_count": null,
      "outputs": []
    },
    {
      "cell_type": "markdown",
      "source": [
        "# Model Creation"
      ],
      "metadata": {
        "id": "jRRBnEcN5adr"
      }
    },
    {
      "cell_type": "code",
      "source": [
        "class CNNSamplerNetwork(nn.Module):\n",
        "    def __init__(self, sparsity):\n",
        "        super(CNNSamplerNetwork, self).__init__()\n",
        "\n",
        "        self.conv_block1 = nn.Sequential(\n",
        "            nn.Conv2d(in_channels=1, out_channels=32, kernel_size=3, padding=1),\n",
        "            nn.BatchNorm2d(32),\n",
        "            nn.ReLU(),\n",
        "            nn.MaxPool2d(kernel_size=2, stride=2),\n",
        "        )\n",
        "\n",
        "        self.conv_block2 = nn.Sequential(\n",
        "            nn.Conv2d(in_channels=32, out_channels=64, kernel_size=3, padding=1),\n",
        "            nn.BatchNorm2d(64),\n",
        "            nn.ReLU(),\n",
        "            nn.MaxPool2d(2),\n",
        "        )\n",
        "\n",
        "        self.deconv_block1 = nn.Sequential(\n",
        "            nn.ConvTranspose2d(\n",
        "                in_channels=64,\n",
        "                out_channels=32,\n",
        "                kernel_size=3,\n",
        "                stride=2,\n",
        "                padding=1,\n",
        "                output_padding=1,\n",
        "            ),\n",
        "            nn.BatchNorm2d(32),\n",
        "            nn.ReLU(),\n",
        "        )\n",
        "\n",
        "        self.deconv_block2 = nn.Sequential(\n",
        "            nn.ConvTranspose2d(\n",
        "                in_channels=32,\n",
        "                out_channels=int(sparsity*32*32),\n",
        "                kernel_size=3,\n",
        "                stride=2,\n",
        "                padding=1,\n",
        "                output_padding=1,\n",
        "            ),\n",
        "        )\n",
        "        \n",
        "        self.drop = nn.Dropout2d(0.25)\n",
        "\n",
        "    def forward(self, x):\n",
        "        x = self.conv_block1(x)\n",
        "        x = self.conv_block2(x)\n",
        "        x = self.deconv_block1(x)\n",
        "        x = self.deconv_block2(x)\n",
        "        # print(\"Shape after deconv block {}\".format(x.shape))\n",
        "        x = torch.flatten(x, start_dim = -2, end_dim = -1)\n",
        "        # print(\"Shape after flattening {}\".format(x.shape))\n",
        "        x = nn.functional.gumbel_softmax(x, tau=100, hard = True)\n",
        "        # print(\"Shape after gumbel {}\".format(x.shape))\n",
        "        x = torch.sum(x, dim = -2)\n",
        "        # print(\"Shape after sum after gumbel {}\".format(x.shape))\n",
        "        x = torch.reshape(x, (-1, 32, 32))\n",
        "        x = torch.unsqueeze(x, 1)\n",
        "        # print(\"Shape of gumbel sampler output {}\".format(x.shape))\n",
        "        # out = torch.sigmoid(x)\n",
        "        out = x\n",
        "\n",
        "        return out\n"
      ],
      "metadata": {
        "id": "UEcvtQSV0qFh"
      },
      "execution_count": null,
      "outputs": []
    },
    {
      "cell_type": "markdown",
      "source": [
        "# Training"
      ],
      "metadata": {
        "id": "QcVclTac5jLl"
      }
    },
    {
      "cell_type": "code",
      "source": [
        "class TrainingHarness:\n",
        "  def __init__(self, training_params):\n",
        "    self.device = torch.device(\"cuda\" if torch.cuda.is_available() else \"cpu\")\n",
        "    print(self.device)\n",
        "    self.sampler = training_params[\"sampler\"].to(self.device)\n",
        "\n",
        "    self.sampler_optimizer = Adam(self.sampler.parameters(), lr=0.05)\n",
        "    self.train_dl = training_params[\"train_dl\"]\n",
        "    self.criterion = nn.MSELoss()\n",
        "\n",
        "    self.sampler_scheduler = lr_scheduler.OneCycleLR(\n",
        "        self.sampler_optimizer,\n",
        "        0.1,\n",
        "        epochs=training_params[\"epochs\"],\n",
        "        steps_per_epoch=len(self.train_dl),\n",
        "        three_phase=True,\n",
        "    )\n",
        "\n",
        "  def forward_only_sampler(self, x):\n",
        "    sampler_mask = self.sampler(x)\n",
        "    return sampler_mask\n",
        "\n",
        "  def forward_with_sampler(self, x, label):\n",
        "      sampler_mask = x.unsqueeze(1)\n",
        "      labels = label.unsqueeze(1)\n",
        "      total_loss = 0.0\n",
        "      input_x = sampler_mask\n",
        "\n",
        "      sampler_pred = self.forward_only_sampler(input_x)\n",
        "\n",
        "      loss = self.criterion(sampler_pred, labels)\n",
        "      total_loss += loss\n",
        "\n",
        "      return total_loss, sampler_pred\n",
        "\n",
        "  def train_only_sampler(self, epoch):\n",
        "      self.sampler.train()\n",
        "      train_loss = 0.0\n",
        "      train_correct = 0\n",
        "      total = 0\n",
        "      for data in tqdm.tqdm(self.train_dl):\n",
        "          ims, labels = data\n",
        "          ims, labels = (\n",
        "              ims.to(self.device),\n",
        "              labels.to(self.device),\n",
        "          )\n",
        "\n",
        "          self.sampler_optimizer.zero_grad()\n",
        "          sampler_loss, sampler_output = self.forward_with_sampler(\n",
        "              ims, labels)\n",
        "          # if epoch % 10 == 0:\n",
        "          #     self.plot_image_grid(\n",
        "          #         [\n",
        "          #             ims[5].permute(1, 2, 0).detach().cpu().numpy(),\n",
        "          #             sampler_mask[5].permute(1, 2, 0).detach().cpu().numpy(),\n",
        "          #             sampler_mask[5].permute(1, 2, 0).detach().cpu().numpy(),\n",
        "          #             ims[10].permute(1, 2, 0).detach().cpu().numpy(),\n",
        "          #             sampler_mask[10].permute(1, 2, 0).detach().cpu().numpy(),\n",
        "          #             sampler_mask[10].permute(1, 2, 0).detach().cpu().numpy(),\n",
        "          #             ims[15].permute(1, 2, 0).detach().cpu().numpy(),\n",
        "          #             sampler_mask[15].permute(1, 2, 0).detach().cpu().numpy(),\n",
        "          #             sampler_mask[15].permute(1, 2, 0).detach().cpu().numpy(),\n",
        "          #         ],\n",
        "          #     )\n",
        "\n",
        "          sampler_loss.backward()\n",
        "            # plt.imshow(sampler_output.squeeze(0).permute(1, 2, 0).detach().cpu().numpy())\n",
        "            # print(\"Sampler Output size: {}\".format(sampler_output.squeeze(0).shape))\n",
        "          # self.plot_grad_flow(self.sampler.named_parameters())\n",
        "          # print(\"Number of layers= {}\".format(type(self.sampler.named_parameters())))\n",
        "          # print(\"Number of from weight layers= {}\".format(self.sampler.deconv_block2[-1].weight.grad))\n",
        "          self.sampler_optimizer.step()\n",
        "          self.sampler_scheduler.step()\n",
        "          train_loss += sampler_loss.item()\n",
        "          # plt.show()\n",
        "      train_loss /= len(self.train_dl)\n",
        "      # print(\"Train Loss: {}, Epoch: {}\".format(train_loss, epoch))\n",
        "      return train_loss, sampler_output\n"
      ],
      "metadata": {
        "id": "A5-K6sgE24o8"
      },
      "execution_count": null,
      "outputs": []
    },
    {
      "cell_type": "code",
      "source": [
        "def train_experiment(sparsity_mask):\n",
        "\n",
        "    train_params = {}\n",
        "    train_params[\"epochs\"] = 1000\n",
        "    train_params[\"batch_size\"] = 32\n",
        "    train_params[\"is_deterministic\"] = False\n",
        "    train_params[\"sampler\"] = CNNSamplerNetwork(sparsity_mask)\n",
        "    train_params[\"sampler_lr\"] = 0.05\n",
        "    train_params[\"mask_sparsity\"] = sparsity_mask\n",
        "\n",
        "    train_dataset = NewDataset(\"masks\", \"labels\")\n",
        "\n",
        "    train_dl = DataLoader(\n",
        "        train_dataset,\n",
        "        batch_size=train_params[\"batch_size\"],\n",
        "        shuffle=True,\n",
        "        num_workers=2,\n",
        "    )\n",
        "    #print(train_dl)\n",
        "\n",
        "    train_params[\"train_dl\"] = train_dl\n",
        "    training_run = TrainingHarness(training_params=train_params)\n",
        "\n",
        "    loss, epoch_list = [], []\n",
        "    num_epochs = train_params[\"epochs\"]\n",
        "    for epoch in range(num_epochs):\n",
        "        train_loss, sampler_output = training_run.train_only_sampler(epoch)\n",
        "        if epoch == 0 or epoch == (num_epochs-1):\n",
        "          torch.save(sampler_output, \"results/ep_{}\".format(epoch))\n",
        "        loss.append(train_loss)\n",
        "        epoch_list.append(epoch)\n",
        "\n",
        "    print(\"Final loss {}\".format(loss[-1]))\n",
        "    # plt.imshow(sampler_output.squeeze(0).squeeze(0).detach())\n",
        "    # plt.colorbar()\n",
        "    plt.plot(epoch_list, loss)"
      ],
      "metadata": {
        "id": "Xcvo9tzt3y3l"
      },
      "execution_count": null,
      "outputs": []
    },
    {
      "cell_type": "code",
      "source": [
        "%mkdir results"
      ],
      "metadata": {
        "id": "uhYZl8y5Ck_e"
      },
      "execution_count": null,
      "outputs": []
    },
    {
      "cell_type": "code",
      "source": [
        "train_experiment(0.5)"
      ],
      "metadata": {
        "colab": {
          "base_uri": "https://localhost:8080/",
          "height": 1000
        },
        "id": "NvIVJ7AKQg44",
        "outputId": "95fff726-3264-4155-9af0-9ad4ea91a87a"
      },
      "execution_count": null,
      "outputs": [
        {
          "output_type": "stream",
          "name": "stdout",
          "text": [
            "cpu\n"
          ]
        },
        {
          "output_type": "stream",
          "name": "stderr",
          "text": [
            "100%|██████████| 1/1 [00:00<00:00,  7.13it/s]\n",
            "100%|██████████| 1/1 [00:00<00:00,  6.09it/s]\n",
            "100%|██████████| 1/1 [00:00<00:00,  5.87it/s]\n",
            "100%|██████████| 1/1 [00:00<00:00,  4.89it/s]\n",
            "100%|██████████| 1/1 [00:00<00:00,  5.07it/s]\n",
            "100%|██████████| 1/1 [00:00<00:00,  5.44it/s]\n",
            "100%|██████████| 1/1 [00:00<00:00,  5.13it/s]\n",
            "100%|██████████| 1/1 [00:00<00:00,  4.90it/s]\n",
            "100%|██████████| 1/1 [00:00<00:00,  5.17it/s]\n",
            "100%|██████████| 1/1 [00:00<00:00,  5.08it/s]\n",
            "100%|██████████| 1/1 [00:00<00:00,  4.43it/s]\n",
            "100%|██████████| 1/1 [00:00<00:00,  4.98it/s]\n",
            "100%|██████████| 1/1 [00:00<00:00,  5.06it/s]\n",
            "100%|██████████| 1/1 [00:00<00:00,  4.61it/s]\n",
            "100%|██████████| 1/1 [00:00<00:00,  4.88it/s]\n",
            "100%|██████████| 1/1 [00:00<00:00,  5.12it/s]\n",
            "100%|██████████| 1/1 [00:00<00:00,  5.07it/s]\n",
            "100%|██████████| 1/1 [00:00<00:00,  5.54it/s]\n",
            "100%|██████████| 1/1 [00:00<00:00,  7.28it/s]\n",
            "100%|██████████| 1/1 [00:00<00:00,  7.36it/s]\n",
            "100%|██████████| 1/1 [00:00<00:00,  7.57it/s]\n",
            "100%|██████████| 1/1 [00:00<00:00,  6.99it/s]\n",
            "100%|██████████| 1/1 [00:00<00:00,  7.20it/s]\n",
            "100%|██████████| 1/1 [00:00<00:00,  7.39it/s]\n",
            "100%|██████████| 1/1 [00:00<00:00,  7.20it/s]\n",
            "100%|██████████| 1/1 [00:00<00:00,  5.13it/s]\n",
            "100%|██████████| 1/1 [00:00<00:00,  5.24it/s]\n",
            "100%|██████████| 1/1 [00:00<00:00,  4.99it/s]\n",
            "100%|██████████| 1/1 [00:00<00:00,  5.46it/s]\n",
            "100%|██████████| 1/1 [00:00<00:00,  5.19it/s]\n",
            "100%|██████████| 1/1 [00:00<00:00,  4.81it/s]\n",
            "100%|██████████| 1/1 [00:00<00:00,  5.29it/s]\n",
            "100%|██████████| 1/1 [00:00<00:00,  4.76it/s]\n",
            "100%|██████████| 1/1 [00:00<00:00,  5.42it/s]\n",
            "100%|██████████| 1/1 [00:00<00:00,  4.93it/s]\n",
            "100%|██████████| 1/1 [00:00<00:00,  4.92it/s]\n",
            "100%|██████████| 1/1 [00:00<00:00,  5.04it/s]\n",
            "100%|██████████| 1/1 [00:00<00:00,  4.97it/s]\n",
            "100%|██████████| 1/1 [00:00<00:00,  4.94it/s]\n",
            "100%|██████████| 1/1 [00:00<00:00,  7.86it/s]\n",
            "100%|██████████| 1/1 [00:00<00:00,  6.77it/s]\n",
            "100%|██████████| 1/1 [00:00<00:00,  7.25it/s]\n",
            "100%|██████████| 1/1 [00:00<00:00,  7.14it/s]\n",
            "100%|██████████| 1/1 [00:00<00:00,  7.66it/s]\n",
            "100%|██████████| 1/1 [00:00<00:00,  6.99it/s]\n",
            "100%|██████████| 1/1 [00:00<00:00,  7.61it/s]\n",
            "100%|██████████| 1/1 [00:00<00:00,  7.40it/s]\n",
            "100%|██████████| 1/1 [00:00<00:00,  7.62it/s]\n",
            "100%|██████████| 1/1 [00:00<00:00,  7.47it/s]\n",
            "100%|██████████| 1/1 [00:00<00:00,  7.89it/s]\n",
            "100%|██████████| 1/1 [00:00<00:00,  7.11it/s]\n",
            "100%|██████████| 1/1 [00:00<00:00,  8.13it/s]\n",
            "100%|██████████| 1/1 [00:00<00:00,  7.12it/s]\n",
            "100%|██████████| 1/1 [00:00<00:00,  8.07it/s]\n",
            "100%|██████████| 1/1 [00:00<00:00,  7.41it/s]\n",
            "100%|██████████| 1/1 [00:00<00:00,  7.39it/s]\n",
            "100%|██████████| 1/1 [00:00<00:00,  7.19it/s]\n",
            "100%|██████████| 1/1 [00:00<00:00,  7.84it/s]\n",
            "100%|██████████| 1/1 [00:00<00:00,  7.54it/s]\n",
            "100%|██████████| 1/1 [00:00<00:00,  7.23it/s]\n",
            "100%|██████████| 1/1 [00:00<00:00,  7.58it/s]\n",
            "100%|██████████| 1/1 [00:00<00:00,  7.73it/s]\n",
            "100%|██████████| 1/1 [00:00<00:00,  7.84it/s]\n",
            "100%|██████████| 1/1 [00:00<00:00,  7.26it/s]\n",
            "100%|██████████| 1/1 [00:00<00:00,  6.91it/s]\n",
            "100%|██████████| 1/1 [00:00<00:00,  6.73it/s]\n",
            "100%|██████████| 1/1 [00:00<00:00,  7.90it/s]\n",
            "100%|██████████| 1/1 [00:00<00:00,  6.28it/s]\n",
            "100%|██████████| 1/1 [00:00<00:00,  8.11it/s]\n",
            "100%|██████████| 1/1 [00:00<00:00,  7.34it/s]\n",
            "100%|██████████| 1/1 [00:00<00:00,  7.48it/s]\n",
            "100%|██████████| 1/1 [00:00<00:00,  7.07it/s]\n",
            "100%|██████████| 1/1 [00:00<00:00,  7.55it/s]\n",
            "100%|██████████| 1/1 [00:00<00:00,  7.15it/s]\n",
            "100%|██████████| 1/1 [00:00<00:00,  7.28it/s]\n",
            "100%|██████████| 1/1 [00:00<00:00,  6.91it/s]\n",
            "100%|██████████| 1/1 [00:00<00:00,  7.31it/s]\n",
            "100%|██████████| 1/1 [00:00<00:00,  7.10it/s]\n",
            "100%|██████████| 1/1 [00:00<00:00,  7.84it/s]\n",
            "100%|██████████| 1/1 [00:00<00:00,  7.50it/s]\n",
            "100%|██████████| 1/1 [00:00<00:00,  7.20it/s]\n",
            "100%|██████████| 1/1 [00:00<00:00,  6.74it/s]\n",
            "100%|██████████| 1/1 [00:00<00:00,  7.57it/s]\n",
            "100%|██████████| 1/1 [00:00<00:00,  6.44it/s]\n",
            "100%|██████████| 1/1 [00:00<00:00,  7.07it/s]\n",
            "100%|██████████| 1/1 [00:00<00:00,  6.78it/s]\n",
            "100%|██████████| 1/1 [00:00<00:00,  7.43it/s]\n",
            "100%|██████████| 1/1 [00:00<00:00,  7.01it/s]\n",
            "100%|██████████| 1/1 [00:00<00:00,  5.93it/s]\n",
            "100%|██████████| 1/1 [00:00<00:00,  2.43it/s]\n",
            "100%|██████████| 1/1 [00:00<00:00,  5.06it/s]\n",
            "100%|██████████| 1/1 [00:00<00:00,  7.40it/s]\n",
            "100%|██████████| 1/1 [00:00<00:00,  7.33it/s]\n",
            "100%|██████████| 1/1 [00:00<00:00,  2.52it/s]\n",
            "100%|██████████| 1/1 [00:00<00:00,  3.78it/s]\n",
            "100%|██████████| 1/1 [00:00<00:00,  7.68it/s]\n",
            "100%|██████████| 1/1 [00:00<00:00,  6.79it/s]\n",
            "100%|██████████| 1/1 [00:00<00:00,  7.46it/s]\n",
            "100%|██████████| 1/1 [00:00<00:00,  2.05it/s]\n",
            "100%|██████████| 1/1 [00:00<00:00,  5.32it/s]\n",
            "100%|██████████| 1/1 [00:00<00:00,  4.99it/s]\n",
            "100%|██████████| 1/1 [00:00<00:00,  5.07it/s]\n",
            "100%|██████████| 1/1 [00:00<00:00,  5.18it/s]\n",
            "100%|██████████| 1/1 [00:00<00:00,  4.77it/s]\n",
            "100%|██████████| 1/1 [00:00<00:00,  5.00it/s]\n",
            "100%|██████████| 1/1 [00:00<00:00,  4.93it/s]\n",
            "100%|██████████| 1/1 [00:00<00:00,  5.25it/s]\n",
            "100%|██████████| 1/1 [00:00<00:00,  5.25it/s]\n",
            "100%|██████████| 1/1 [00:00<00:00,  5.76it/s]\n",
            "100%|██████████| 1/1 [00:00<00:00,  5.22it/s]\n",
            "100%|██████████| 1/1 [00:00<00:00,  5.21it/s]\n",
            "100%|██████████| 1/1 [00:00<00:00,  4.77it/s]\n",
            "100%|██████████| 1/1 [00:00<00:00,  4.54it/s]\n",
            "100%|██████████| 1/1 [00:00<00:00,  4.91it/s]\n",
            "100%|██████████| 1/1 [00:00<00:00,  6.92it/s]\n",
            "100%|██████████| 1/1 [00:00<00:00,  6.98it/s]\n",
            "100%|██████████| 1/1 [00:00<00:00,  7.30it/s]\n",
            "100%|██████████| 1/1 [00:00<00:00,  6.77it/s]\n",
            "100%|██████████| 1/1 [00:00<00:00,  6.94it/s]\n",
            "100%|██████████| 1/1 [00:00<00:00,  7.42it/s]\n",
            "100%|██████████| 1/1 [00:00<00:00,  7.35it/s]\n",
            "100%|██████████| 1/1 [00:00<00:00,  7.92it/s]\n",
            "100%|██████████| 1/1 [00:00<00:00,  7.37it/s]\n",
            "100%|██████████| 1/1 [00:00<00:00,  6.86it/s]\n",
            "100%|██████████| 1/1 [00:00<00:00,  7.76it/s]\n",
            "100%|██████████| 1/1 [00:00<00:00,  6.43it/s]\n",
            "100%|██████████| 1/1 [00:00<00:00,  7.70it/s]\n",
            "100%|██████████| 1/1 [00:00<00:00,  7.57it/s]\n",
            "100%|██████████| 1/1 [00:00<00:00,  7.36it/s]\n",
            "100%|██████████| 1/1 [00:00<00:00,  7.33it/s]\n",
            "100%|██████████| 1/1 [00:00<00:00,  7.05it/s]\n",
            "100%|██████████| 1/1 [00:00<00:00,  7.47it/s]\n",
            "100%|██████████| 1/1 [00:00<00:00,  6.12it/s]\n",
            "100%|██████████| 1/1 [00:00<00:00,  6.86it/s]\n",
            "100%|██████████| 1/1 [00:00<00:00,  7.73it/s]\n",
            "100%|██████████| 1/1 [00:00<00:00,  7.39it/s]\n",
            "100%|██████████| 1/1 [00:00<00:00,  7.84it/s]\n",
            "100%|██████████| 1/1 [00:00<00:00,  7.84it/s]\n",
            "100%|██████████| 1/1 [00:00<00:00,  6.79it/s]\n",
            "100%|██████████| 1/1 [00:00<00:00,  6.94it/s]\n",
            "100%|██████████| 1/1 [00:00<00:00,  6.91it/s]\n",
            "100%|██████████| 1/1 [00:00<00:00,  7.35it/s]\n",
            "100%|██████████| 1/1 [00:00<00:00,  7.18it/s]\n",
            "100%|██████████| 1/1 [00:00<00:00,  7.32it/s]\n",
            "100%|██████████| 1/1 [00:00<00:00,  6.88it/s]\n",
            "100%|██████████| 1/1 [00:00<00:00,  7.18it/s]\n",
            "100%|██████████| 1/1 [00:00<00:00,  6.85it/s]\n",
            "100%|██████████| 1/1 [00:00<00:00,  7.34it/s]\n",
            "100%|██████████| 1/1 [00:00<00:00,  6.98it/s]\n",
            "100%|██████████| 1/1 [00:00<00:00,  6.87it/s]\n",
            "100%|██████████| 1/1 [00:00<00:00,  7.85it/s]\n",
            "100%|██████████| 1/1 [00:00<00:00,  7.23it/s]\n",
            "100%|██████████| 1/1 [00:00<00:00,  6.71it/s]\n",
            "100%|██████████| 1/1 [00:00<00:00,  7.61it/s]\n",
            "100%|██████████| 1/1 [00:00<00:00,  7.12it/s]\n",
            "100%|██████████| 1/1 [00:00<00:00,  6.80it/s]\n",
            "100%|██████████| 1/1 [00:00<00:00,  7.47it/s]\n",
            "100%|██████████| 1/1 [00:00<00:00,  6.08it/s]\n",
            "100%|██████████| 1/1 [00:00<00:00,  6.75it/s]\n",
            "100%|██████████| 1/1 [00:00<00:00,  6.39it/s]\n",
            "100%|██████████| 1/1 [00:00<00:00,  7.14it/s]\n",
            "100%|██████████| 1/1 [00:00<00:00,  7.01it/s]\n",
            "100%|██████████| 1/1 [00:00<00:00,  7.50it/s]\n",
            "100%|██████████| 1/1 [00:00<00:00,  7.36it/s]\n",
            "100%|██████████| 1/1 [00:00<00:00,  7.34it/s]\n",
            "100%|██████████| 1/1 [00:00<00:00,  6.97it/s]\n",
            "100%|██████████| 1/1 [00:00<00:00,  6.90it/s]\n",
            "100%|██████████| 1/1 [00:00<00:00,  6.84it/s]\n",
            "100%|██████████| 1/1 [00:00<00:00,  7.02it/s]\n",
            "100%|██████████| 1/1 [00:00<00:00,  7.37it/s]\n",
            "100%|██████████| 1/1 [00:00<00:00,  7.65it/s]\n",
            "100%|██████████| 1/1 [00:00<00:00,  7.23it/s]\n",
            "100%|██████████| 1/1 [00:00<00:00,  7.11it/s]\n",
            "100%|██████████| 1/1 [00:00<00:00,  6.98it/s]\n",
            "100%|██████████| 1/1 [00:00<00:00,  7.87it/s]\n",
            "100%|██████████| 1/1 [00:00<00:00,  7.28it/s]\n",
            "100%|██████████| 1/1 [00:00<00:00,  7.42it/s]\n",
            "100%|██████████| 1/1 [00:00<00:00,  7.26it/s]\n",
            "100%|██████████| 1/1 [00:00<00:00,  7.00it/s]\n",
            "100%|██████████| 1/1 [00:00<00:00,  7.71it/s]\n",
            "100%|██████████| 1/1 [00:00<00:00,  4.94it/s]\n",
            "100%|██████████| 1/1 [00:00<00:00,  5.52it/s]\n",
            "100%|██████████| 1/1 [00:00<00:00,  5.30it/s]\n",
            "100%|██████████| 1/1 [00:00<00:00,  5.30it/s]\n",
            "100%|██████████| 1/1 [00:00<00:00,  5.21it/s]\n",
            "100%|██████████| 1/1 [00:00<00:00,  4.77it/s]\n",
            "100%|██████████| 1/1 [00:00<00:00,  4.94it/s]\n",
            "100%|██████████| 1/1 [00:00<00:00,  4.97it/s]\n",
            "100%|██████████| 1/1 [00:00<00:00,  5.18it/s]\n",
            "100%|██████████| 1/1 [00:00<00:00,  4.90it/s]\n",
            "100%|██████████| 1/1 [00:00<00:00,  4.38it/s]\n",
            "100%|██████████| 1/1 [00:00<00:00,  4.57it/s]\n",
            "100%|██████████| 1/1 [00:00<00:00,  4.80it/s]\n",
            "100%|██████████| 1/1 [00:00<00:00,  4.81it/s]\n",
            "100%|██████████| 1/1 [00:00<00:00,  4.64it/s]\n",
            "100%|██████████| 1/1 [00:00<00:00,  6.80it/s]\n",
            "100%|██████████| 1/1 [00:00<00:00,  6.63it/s]\n",
            "100%|██████████| 1/1 [00:00<00:00,  6.78it/s]\n",
            "100%|██████████| 1/1 [00:00<00:00,  6.69it/s]\n",
            "100%|██████████| 1/1 [00:00<00:00,  7.00it/s]\n",
            "100%|██████████| 1/1 [00:00<00:00,  7.20it/s]\n",
            "100%|██████████| 1/1 [00:00<00:00,  6.54it/s]\n",
            "100%|██████████| 1/1 [00:00<00:00,  7.23it/s]\n",
            "100%|██████████| 1/1 [00:00<00:00,  6.64it/s]\n",
            "100%|██████████| 1/1 [00:00<00:00,  6.78it/s]\n",
            "100%|██████████| 1/1 [00:00<00:00,  7.71it/s]\n",
            "100%|██████████| 1/1 [00:00<00:00,  6.68it/s]\n",
            "100%|██████████| 1/1 [00:00<00:00,  6.50it/s]\n",
            "100%|██████████| 1/1 [00:00<00:00,  6.43it/s]\n",
            "100%|██████████| 1/1 [00:00<00:00,  6.93it/s]\n",
            "100%|██████████| 1/1 [00:00<00:00,  6.82it/s]\n",
            "100%|██████████| 1/1 [00:00<00:00,  6.90it/s]\n",
            "100%|██████████| 1/1 [00:00<00:00,  6.31it/s]\n",
            "100%|██████████| 1/1 [00:00<00:00,  7.60it/s]\n",
            "100%|██████████| 1/1 [00:00<00:00,  6.66it/s]\n",
            "100%|██████████| 1/1 [00:00<00:00,  7.05it/s]\n",
            "100%|██████████| 1/1 [00:00<00:00,  6.24it/s]\n",
            "100%|██████████| 1/1 [00:00<00:00,  7.56it/s]\n",
            "100%|██████████| 1/1 [00:00<00:00,  6.29it/s]\n",
            "100%|██████████| 1/1 [00:00<00:00,  6.74it/s]\n",
            "100%|██████████| 1/1 [00:00<00:00,  6.98it/s]\n",
            "100%|██████████| 1/1 [00:00<00:00,  6.97it/s]\n",
            "100%|██████████| 1/1 [00:00<00:00,  7.28it/s]\n",
            "100%|██████████| 1/1 [00:00<00:00,  6.99it/s]\n",
            "100%|██████████| 1/1 [00:00<00:00,  7.04it/s]\n",
            "100%|██████████| 1/1 [00:00<00:00,  6.72it/s]\n",
            "100%|██████████| 1/1 [00:00<00:00,  6.61it/s]\n",
            "100%|██████████| 1/1 [00:00<00:00,  5.69it/s]\n",
            "100%|██████████| 1/1 [00:00<00:00,  7.49it/s]\n",
            "100%|██████████| 1/1 [00:00<00:00,  7.11it/s]\n",
            "100%|██████████| 1/1 [00:00<00:00,  7.36it/s]\n",
            "100%|██████████| 1/1 [00:00<00:00,  7.00it/s]\n",
            "100%|██████████| 1/1 [00:00<00:00,  5.88it/s]\n",
            "100%|██████████| 1/1 [00:00<00:00,  7.48it/s]\n",
            "100%|██████████| 1/1 [00:00<00:00,  6.14it/s]\n",
            "100%|██████████| 1/1 [00:00<00:00,  6.89it/s]\n",
            "100%|██████████| 1/1 [00:00<00:00,  7.50it/s]\n",
            "100%|██████████| 1/1 [00:00<00:00,  6.10it/s]\n",
            "100%|██████████| 1/1 [00:00<00:00,  6.41it/s]\n",
            "100%|██████████| 1/1 [00:00<00:00,  6.85it/s]\n",
            "100%|██████████| 1/1 [00:00<00:00,  6.25it/s]\n",
            "100%|██████████| 1/1 [00:00<00:00,  7.18it/s]\n",
            "100%|██████████| 1/1 [00:00<00:00,  6.92it/s]\n",
            "100%|██████████| 1/1 [00:00<00:00,  6.44it/s]\n",
            "100%|██████████| 1/1 [00:00<00:00,  6.98it/s]\n",
            "100%|██████████| 1/1 [00:00<00:00,  7.21it/s]\n",
            "100%|██████████| 1/1 [00:00<00:00,  6.83it/s]\n",
            "100%|██████████| 1/1 [00:00<00:00,  6.60it/s]\n",
            "100%|██████████| 1/1 [00:00<00:00,  6.46it/s]\n",
            "100%|██████████| 1/1 [00:00<00:00,  6.79it/s]\n",
            "100%|██████████| 1/1 [00:00<00:00,  6.86it/s]\n",
            "100%|██████████| 1/1 [00:00<00:00,  6.44it/s]\n",
            "100%|██████████| 1/1 [00:00<00:00,  7.26it/s]\n",
            "100%|██████████| 1/1 [00:00<00:00,  6.57it/s]\n",
            "100%|██████████| 1/1 [00:00<00:00,  7.28it/s]\n",
            "100%|██████████| 1/1 [00:00<00:00,  7.36it/s]\n",
            "100%|██████████| 1/1 [00:00<00:00,  6.79it/s]\n",
            "100%|██████████| 1/1 [00:00<00:00,  6.55it/s]\n",
            "100%|██████████| 1/1 [00:00<00:00,  4.53it/s]\n",
            "100%|██████████| 1/1 [00:00<00:00,  4.75it/s]\n",
            "100%|██████████| 1/1 [00:00<00:00,  4.57it/s]\n",
            "100%|██████████| 1/1 [00:00<00:00,  4.56it/s]\n",
            "100%|██████████| 1/1 [00:00<00:00,  4.49it/s]\n",
            "100%|██████████| 1/1 [00:00<00:00,  4.86it/s]\n",
            "100%|██████████| 1/1 [00:00<00:00,  4.23it/s]\n",
            "100%|██████████| 1/1 [00:00<00:00,  4.64it/s]\n",
            "100%|██████████| 1/1 [00:00<00:00,  4.98it/s]\n",
            "100%|██████████| 1/1 [00:00<00:00,  4.44it/s]\n",
            "100%|██████████| 1/1 [00:00<00:00,  4.83it/s]\n",
            "100%|██████████| 1/1 [00:00<00:00,  4.76it/s]\n",
            "100%|██████████| 1/1 [00:00<00:00,  4.96it/s]\n",
            "100%|██████████| 1/1 [00:00<00:00,  6.53it/s]\n",
            "100%|██████████| 1/1 [00:00<00:00,  6.44it/s]\n",
            "100%|██████████| 1/1 [00:00<00:00,  6.33it/s]\n",
            "100%|██████████| 1/1 [00:00<00:00,  6.25it/s]\n",
            "100%|██████████| 1/1 [00:00<00:00,  6.76it/s]\n",
            "100%|██████████| 1/1 [00:00<00:00,  7.06it/s]\n",
            "100%|██████████| 1/1 [00:00<00:00,  6.82it/s]\n",
            "100%|██████████| 1/1 [00:00<00:00,  6.38it/s]\n",
            "100%|██████████| 1/1 [00:00<00:00,  6.70it/s]\n",
            "100%|██████████| 1/1 [00:00<00:00,  6.48it/s]\n",
            "100%|██████████| 1/1 [00:00<00:00,  7.35it/s]\n",
            "100%|██████████| 1/1 [00:00<00:00,  6.33it/s]\n",
            "100%|██████████| 1/1 [00:00<00:00,  6.53it/s]\n",
            "100%|██████████| 1/1 [00:00<00:00,  6.73it/s]\n",
            "100%|██████████| 1/1 [00:00<00:00,  7.06it/s]\n",
            "100%|██████████| 1/1 [00:00<00:00,  6.23it/s]\n",
            "100%|██████████| 1/1 [00:00<00:00,  6.54it/s]\n",
            "100%|██████████| 1/1 [00:00<00:00,  6.72it/s]\n",
            "100%|██████████| 1/1 [00:00<00:00,  6.31it/s]\n",
            "100%|██████████| 1/1 [00:00<00:00,  7.42it/s]\n",
            "100%|██████████| 1/1 [00:00<00:00,  6.66it/s]\n",
            "100%|██████████| 1/1 [00:00<00:00,  6.71it/s]\n",
            "100%|██████████| 1/1 [00:00<00:00,  6.61it/s]\n",
            "100%|██████████| 1/1 [00:00<00:00,  6.27it/s]\n",
            "100%|██████████| 1/1 [00:00<00:00,  6.51it/s]\n",
            "100%|██████████| 1/1 [00:00<00:00,  6.56it/s]\n",
            "100%|██████████| 1/1 [00:00<00:00,  6.48it/s]\n",
            "100%|██████████| 1/1 [00:00<00:00,  6.99it/s]\n",
            "100%|██████████| 1/1 [00:00<00:00,  6.11it/s]\n",
            "100%|██████████| 1/1 [00:00<00:00,  7.05it/s]\n",
            "100%|██████████| 1/1 [00:00<00:00,  6.54it/s]\n",
            "100%|██████████| 1/1 [00:00<00:00,  6.76it/s]\n",
            "100%|██████████| 1/1 [00:00<00:00,  6.36it/s]\n",
            "100%|██████████| 1/1 [00:00<00:00,  6.52it/s]\n",
            "100%|██████████| 1/1 [00:00<00:00,  6.58it/s]\n",
            "100%|██████████| 1/1 [00:00<00:00,  6.70it/s]\n",
            "100%|██████████| 1/1 [00:00<00:00,  6.26it/s]\n",
            "100%|██████████| 1/1 [00:00<00:00,  6.88it/s]\n",
            "100%|██████████| 1/1 [00:00<00:00,  6.82it/s]\n",
            "100%|██████████| 1/1 [00:00<00:00,  5.92it/s]\n",
            "100%|██████████| 1/1 [00:00<00:00,  6.44it/s]\n",
            "100%|██████████| 1/1 [00:00<00:00,  6.78it/s]\n",
            "100%|██████████| 1/1 [00:00<00:00,  6.83it/s]\n",
            "100%|██████████| 1/1 [00:00<00:00,  6.02it/s]\n",
            "100%|██████████| 1/1 [00:00<00:00,  6.71it/s]\n",
            "100%|██████████| 1/1 [00:00<00:00,  6.34it/s]\n",
            "100%|██████████| 1/1 [00:00<00:00,  6.69it/s]\n",
            "100%|██████████| 1/1 [00:00<00:00,  6.53it/s]\n",
            "100%|██████████| 1/1 [00:00<00:00,  6.00it/s]\n",
            "100%|██████████| 1/1 [00:00<00:00,  6.44it/s]\n",
            "100%|██████████| 1/1 [00:00<00:00,  6.38it/s]\n",
            "100%|██████████| 1/1 [00:00<00:00,  7.05it/s]\n",
            "100%|██████████| 1/1 [00:00<00:00,  6.42it/s]\n",
            "100%|██████████| 1/1 [00:00<00:00,  6.29it/s]\n",
            "100%|██████████| 1/1 [00:00<00:00,  6.21it/s]\n",
            "100%|██████████| 1/1 [00:00<00:00,  6.72it/s]\n",
            "100%|██████████| 1/1 [00:00<00:00,  6.86it/s]\n",
            "100%|██████████| 1/1 [00:00<00:00,  7.24it/s]\n",
            "100%|██████████| 1/1 [00:00<00:00,  6.73it/s]\n",
            "100%|██████████| 1/1 [00:00<00:00,  6.41it/s]\n",
            "100%|██████████| 1/1 [00:00<00:00,  5.86it/s]\n",
            "100%|██████████| 1/1 [00:00<00:00,  5.61it/s]\n",
            "100%|██████████| 1/1 [00:00<00:00,  4.49it/s]\n",
            "100%|██████████| 1/1 [00:00<00:00,  4.71it/s]\n",
            "100%|██████████| 1/1 [00:00<00:00,  4.26it/s]\n",
            "100%|██████████| 1/1 [00:00<00:00,  4.73it/s]\n",
            "100%|██████████| 1/1 [00:00<00:00,  4.83it/s]\n",
            "100%|██████████| 1/1 [00:00<00:00,  5.03it/s]\n",
            "100%|██████████| 1/1 [00:00<00:00,  4.77it/s]\n",
            "100%|██████████| 1/1 [00:00<00:00,  4.05it/s]\n",
            "100%|██████████| 1/1 [00:00<00:00,  4.74it/s]\n",
            "100%|██████████| 1/1 [00:00<00:00,  5.15it/s]\n",
            "100%|██████████| 1/1 [00:00<00:00,  4.86it/s]\n",
            "100%|██████████| 1/1 [00:00<00:00,  4.57it/s]\n",
            "100%|██████████| 1/1 [00:00<00:00,  4.50it/s]\n",
            "100%|██████████| 1/1 [00:00<00:00,  6.29it/s]\n",
            "100%|██████████| 1/1 [00:00<00:00,  6.59it/s]\n",
            "100%|██████████| 1/1 [00:00<00:00,  6.68it/s]\n",
            "100%|██████████| 1/1 [00:00<00:00,  6.64it/s]\n",
            "100%|██████████| 1/1 [00:00<00:00,  7.13it/s]\n",
            "100%|██████████| 1/1 [00:00<00:00,  5.96it/s]\n",
            "100%|██████████| 1/1 [00:00<00:00,  6.58it/s]\n",
            "100%|██████████| 1/1 [00:00<00:00,  7.06it/s]\n",
            "100%|██████████| 1/1 [00:00<00:00,  6.67it/s]\n",
            "100%|██████████| 1/1 [00:00<00:00,  6.45it/s]\n",
            "100%|██████████| 1/1 [00:00<00:00,  6.70it/s]\n",
            "100%|██████████| 1/1 [00:00<00:00,  6.58it/s]\n",
            "100%|██████████| 1/1 [00:00<00:00,  6.14it/s]\n",
            "100%|██████████| 1/1 [00:00<00:00,  6.61it/s]\n",
            "100%|██████████| 1/1 [00:00<00:00,  6.04it/s]\n",
            "100%|██████████| 1/1 [00:00<00:00,  7.11it/s]\n",
            "100%|██████████| 1/1 [00:00<00:00,  6.70it/s]\n",
            "100%|██████████| 1/1 [00:00<00:00,  7.12it/s]\n",
            "100%|██████████| 1/1 [00:00<00:00,  6.38it/s]\n",
            "100%|██████████| 1/1 [00:00<00:00,  6.29it/s]\n",
            "100%|██████████| 1/1 [00:00<00:00,  6.67it/s]\n",
            "100%|██████████| 1/1 [00:00<00:00,  6.68it/s]\n",
            "100%|██████████| 1/1 [00:00<00:00,  6.60it/s]\n",
            "100%|██████████| 1/1 [00:00<00:00,  6.54it/s]\n",
            "100%|██████████| 1/1 [00:00<00:00,  6.32it/s]\n",
            "100%|██████████| 1/1 [00:00<00:00,  6.37it/s]\n",
            "100%|██████████| 1/1 [00:00<00:00,  6.52it/s]\n",
            "100%|██████████| 1/1 [00:00<00:00,  7.00it/s]\n",
            "100%|██████████| 1/1 [00:00<00:00,  6.63it/s]\n",
            "100%|██████████| 1/1 [00:00<00:00,  7.09it/s]\n",
            "100%|██████████| 1/1 [00:00<00:00,  6.56it/s]\n",
            "100%|██████████| 1/1 [00:00<00:00,  5.35it/s]\n",
            "100%|██████████| 1/1 [00:00<00:00,  6.52it/s]\n",
            "100%|██████████| 1/1 [00:00<00:00,  6.10it/s]\n",
            "100%|██████████| 1/1 [00:00<00:00,  6.17it/s]\n",
            "100%|██████████| 1/1 [00:00<00:00,  6.48it/s]\n",
            "100%|██████████| 1/1 [00:00<00:00,  6.92it/s]\n",
            "100%|██████████| 1/1 [00:00<00:00,  6.25it/s]\n",
            "100%|██████████| 1/1 [00:00<00:00,  6.76it/s]\n",
            "100%|██████████| 1/1 [00:00<00:00,  6.65it/s]\n",
            "100%|██████████| 1/1 [00:00<00:00,  6.42it/s]\n",
            "100%|██████████| 1/1 [00:00<00:00,  6.82it/s]\n",
            "100%|██████████| 1/1 [00:00<00:00,  6.15it/s]\n",
            "100%|██████████| 1/1 [00:00<00:00,  6.30it/s]\n",
            "100%|██████████| 1/1 [00:00<00:00,  6.23it/s]\n",
            "100%|██████████| 1/1 [00:00<00:00,  6.61it/s]\n",
            "100%|██████████| 1/1 [00:00<00:00,  6.28it/s]\n",
            "100%|██████████| 1/1 [00:00<00:00,  6.55it/s]\n",
            "100%|██████████| 1/1 [00:00<00:00,  6.24it/s]\n",
            "100%|██████████| 1/1 [00:00<00:00,  6.42it/s]\n",
            "100%|██████████| 1/1 [00:00<00:00,  6.75it/s]\n",
            "100%|██████████| 1/1 [00:00<00:00,  6.95it/s]\n",
            "100%|██████████| 1/1 [00:00<00:00,  6.98it/s]\n",
            "100%|██████████| 1/1 [00:00<00:00,  6.26it/s]\n",
            "100%|██████████| 1/1 [00:00<00:00,  6.89it/s]\n",
            "100%|██████████| 1/1 [00:00<00:00,  6.56it/s]\n",
            "100%|██████████| 1/1 [00:00<00:00,  6.19it/s]\n",
            "100%|██████████| 1/1 [00:00<00:00,  6.40it/s]\n",
            "100%|██████████| 1/1 [00:00<00:00,  6.88it/s]\n",
            "100%|██████████| 1/1 [00:00<00:00,  6.68it/s]\n",
            "100%|██████████| 1/1 [00:00<00:00,  6.84it/s]\n",
            "100%|██████████| 1/1 [00:00<00:00,  4.69it/s]\n",
            "100%|██████████| 1/1 [00:00<00:00,  4.45it/s]\n",
            "100%|██████████| 1/1 [00:00<00:00,  4.57it/s]\n",
            "100%|██████████| 1/1 [00:00<00:00,  4.71it/s]\n",
            "100%|██████████| 1/1 [00:00<00:00,  4.47it/s]\n",
            "100%|██████████| 1/1 [00:00<00:00,  4.37it/s]\n",
            "100%|██████████| 1/1 [00:00<00:00,  5.10it/s]\n",
            "100%|██████████| 1/1 [00:00<00:00,  4.80it/s]\n",
            "100%|██████████| 1/1 [00:00<00:00,  4.16it/s]\n",
            "100%|██████████| 1/1 [00:00<00:00,  4.73it/s]\n",
            "100%|██████████| 1/1 [00:00<00:00,  4.73it/s]\n",
            "100%|██████████| 1/1 [00:00<00:00,  4.97it/s]\n",
            "100%|██████████| 1/1 [00:00<00:00,  4.78it/s]\n",
            "100%|██████████| 1/1 [00:00<00:00,  6.75it/s]\n",
            "100%|██████████| 1/1 [00:00<00:00,  6.57it/s]\n",
            "100%|██████████| 1/1 [00:00<00:00,  6.14it/s]\n",
            "100%|██████████| 1/1 [00:00<00:00,  7.43it/s]\n",
            "100%|██████████| 1/1 [00:00<00:00,  7.11it/s]\n",
            "100%|██████████| 1/1 [00:00<00:00,  6.38it/s]\n",
            "100%|██████████| 1/1 [00:00<00:00,  6.10it/s]\n",
            "100%|██████████| 1/1 [00:00<00:00,  6.98it/s]\n",
            "100%|██████████| 1/1 [00:00<00:00,  7.42it/s]\n",
            "100%|██████████| 1/1 [00:00<00:00,  6.06it/s]\n",
            "100%|██████████| 1/1 [00:00<00:00,  6.88it/s]\n",
            "100%|██████████| 1/1 [00:00<00:00,  6.47it/s]\n",
            "100%|██████████| 1/1 [00:00<00:00,  7.13it/s]\n",
            "100%|██████████| 1/1 [00:00<00:00,  7.06it/s]\n",
            "100%|██████████| 1/1 [00:00<00:00,  6.17it/s]\n",
            "100%|██████████| 1/1 [00:00<00:00,  6.46it/s]\n",
            "100%|██████████| 1/1 [00:00<00:00,  6.53it/s]\n",
            "100%|██████████| 1/1 [00:00<00:00,  5.72it/s]\n",
            "100%|██████████| 1/1 [00:00<00:00,  7.09it/s]\n",
            "100%|██████████| 1/1 [00:00<00:00,  6.91it/s]\n",
            "100%|██████████| 1/1 [00:00<00:00,  5.80it/s]\n",
            "100%|██████████| 1/1 [00:00<00:00,  6.39it/s]\n",
            "100%|██████████| 1/1 [00:00<00:00,  6.74it/s]\n",
            "100%|██████████| 1/1 [00:00<00:00,  6.40it/s]\n",
            "100%|██████████| 1/1 [00:00<00:00,  6.78it/s]\n",
            "100%|██████████| 1/1 [00:00<00:00,  6.38it/s]\n",
            "100%|██████████| 1/1 [00:00<00:00,  6.47it/s]\n",
            "100%|██████████| 1/1 [00:00<00:00,  6.04it/s]\n",
            "100%|██████████| 1/1 [00:00<00:00,  6.92it/s]\n",
            "100%|██████████| 1/1 [00:00<00:00,  6.75it/s]\n",
            "100%|██████████| 1/1 [00:00<00:00,  6.59it/s]\n",
            "100%|██████████| 1/1 [00:00<00:00,  6.37it/s]\n",
            "100%|██████████| 1/1 [00:00<00:00,  6.32it/s]\n",
            "100%|██████████| 1/1 [00:00<00:00,  6.62it/s]\n",
            "100%|██████████| 1/1 [00:00<00:00,  6.62it/s]\n",
            "100%|██████████| 1/1 [00:00<00:00,  6.66it/s]\n",
            "100%|██████████| 1/1 [00:00<00:00,  6.39it/s]\n",
            "100%|██████████| 1/1 [00:00<00:00,  6.50it/s]\n",
            "100%|██████████| 1/1 [00:00<00:00,  6.49it/s]\n",
            "100%|██████████| 1/1 [00:00<00:00,  6.54it/s]\n",
            "100%|██████████| 1/1 [00:00<00:00,  5.60it/s]\n",
            "100%|██████████| 1/1 [00:00<00:00,  6.21it/s]\n",
            "100%|██████████| 1/1 [00:00<00:00,  6.28it/s]\n",
            "100%|██████████| 1/1 [00:00<00:00,  6.59it/s]\n",
            "100%|██████████| 1/1 [00:00<00:00,  6.20it/s]\n",
            "100%|██████████| 1/1 [00:00<00:00,  6.14it/s]\n",
            "100%|██████████| 1/1 [00:00<00:00,  6.19it/s]\n",
            "100%|██████████| 1/1 [00:00<00:00,  6.55it/s]\n",
            "100%|██████████| 1/1 [00:00<00:00,  6.27it/s]\n",
            "100%|██████████| 1/1 [00:00<00:00,  6.32it/s]\n",
            "100%|██████████| 1/1 [00:00<00:00,  6.17it/s]\n",
            "100%|██████████| 1/1 [00:00<00:00,  6.41it/s]\n",
            "100%|██████████| 1/1 [00:00<00:00,  6.75it/s]\n",
            "100%|██████████| 1/1 [00:00<00:00,  6.48it/s]\n",
            "100%|██████████| 1/1 [00:00<00:00,  6.73it/s]\n",
            "100%|██████████| 1/1 [00:00<00:00,  6.77it/s]\n",
            "100%|██████████| 1/1 [00:00<00:00,  6.31it/s]\n",
            "100%|██████████| 1/1 [00:00<00:00,  6.79it/s]\n",
            "100%|██████████| 1/1 [00:00<00:00,  6.72it/s]\n",
            "100%|██████████| 1/1 [00:00<00:00,  6.22it/s]\n",
            "100%|██████████| 1/1 [00:00<00:00,  5.68it/s]\n",
            "100%|██████████| 1/1 [00:00<00:00,  4.14it/s]\n",
            "100%|██████████| 1/1 [00:00<00:00,  4.80it/s]\n",
            "100%|██████████| 1/1 [00:00<00:00,  4.59it/s]\n",
            "100%|██████████| 1/1 [00:00<00:00,  4.71it/s]\n",
            "100%|██████████| 1/1 [00:00<00:00,  4.35it/s]\n",
            "100%|██████████| 1/1 [00:00<00:00,  4.63it/s]\n",
            "100%|██████████| 1/1 [00:00<00:00,  4.51it/s]\n",
            "100%|██████████| 1/1 [00:00<00:00,  4.55it/s]\n",
            "100%|██████████| 1/1 [00:00<00:00,  4.48it/s]\n",
            "100%|██████████| 1/1 [00:00<00:00,  3.23it/s]\n",
            "100%|██████████| 1/1 [00:00<00:00,  1.84it/s]\n",
            "100%|██████████| 1/1 [00:00<00:00,  3.58it/s]\n",
            "100%|██████████| 1/1 [00:00<00:00,  2.60it/s]\n",
            "100%|██████████| 1/1 [00:00<00:00,  3.68it/s]\n",
            "100%|██████████| 1/1 [00:00<00:00,  2.73it/s]\n",
            "100%|██████████| 1/1 [00:00<00:00,  2.97it/s]\n",
            "100%|██████████| 1/1 [00:00<00:00,  2.03it/s]\n",
            "100%|██████████| 1/1 [00:00<00:00,  3.91it/s]\n",
            "100%|██████████| 1/1 [00:00<00:00,  4.40it/s]\n",
            "100%|██████████| 1/1 [00:00<00:00,  2.86it/s]\n",
            "100%|██████████| 1/1 [00:00<00:00,  3.25it/s]\n",
            "100%|██████████| 1/1 [00:00<00:00,  3.76it/s]\n",
            "100%|██████████| 1/1 [00:00<00:00,  3.26it/s]\n",
            "100%|██████████| 1/1 [00:00<00:00,  3.61it/s]\n",
            "100%|██████████| 1/1 [00:00<00:00,  3.54it/s]\n",
            "100%|██████████| 1/1 [00:00<00:00,  3.27it/s]\n",
            "100%|██████████| 1/1 [00:00<00:00,  2.75it/s]\n",
            "100%|██████████| 1/1 [00:00<00:00,  3.54it/s]\n",
            "100%|██████████| 1/1 [00:00<00:00,  2.79it/s]\n",
            "100%|██████████| 1/1 [00:00<00:00,  3.62it/s]\n",
            "100%|██████████| 1/1 [00:00<00:00,  2.12it/s]\n",
            "100%|██████████| 1/1 [00:00<00:00,  2.71it/s]\n",
            "100%|██████████| 1/1 [00:00<00:00,  4.18it/s]\n",
            "100%|██████████| 1/1 [00:00<00:00,  3.84it/s]\n",
            "100%|██████████| 1/1 [00:00<00:00,  3.81it/s]\n",
            "100%|██████████| 1/1 [00:00<00:00,  3.09it/s]\n",
            "100%|██████████| 1/1 [00:00<00:00,  2.82it/s]\n",
            "100%|██████████| 1/1 [00:00<00:00,  3.64it/s]\n",
            "100%|██████████| 1/1 [00:00<00:00,  6.58it/s]\n",
            "100%|██████████| 1/1 [00:00<00:00,  7.17it/s]\n",
            "100%|██████████| 1/1 [00:00<00:00,  6.88it/s]\n",
            "100%|██████████| 1/1 [00:00<00:00,  6.99it/s]\n",
            "100%|██████████| 1/1 [00:00<00:00,  6.80it/s]\n",
            "100%|██████████| 1/1 [00:00<00:00,  6.53it/s]\n",
            "100%|██████████| 1/1 [00:00<00:00,  7.44it/s]\n",
            "100%|██████████| 1/1 [00:00<00:00,  3.87it/s]\n",
            "100%|██████████| 1/1 [00:00<00:00,  4.74it/s]\n",
            "100%|██████████| 1/1 [00:00<00:00,  5.08it/s]\n",
            "100%|██████████| 1/1 [00:00<00:00,  4.91it/s]\n",
            "100%|██████████| 1/1 [00:00<00:00,  4.67it/s]\n",
            "100%|██████████| 1/1 [00:00<00:00,  4.53it/s]\n",
            "100%|██████████| 1/1 [00:00<00:00,  4.96it/s]\n",
            "100%|██████████| 1/1 [00:00<00:00,  5.15it/s]\n",
            "100%|██████████| 1/1 [00:00<00:00,  5.05it/s]\n",
            "100%|██████████| 1/1 [00:00<00:00,  5.13it/s]\n",
            "100%|██████████| 1/1 [00:00<00:00,  4.93it/s]\n",
            "100%|██████████| 1/1 [00:00<00:00,  4.94it/s]\n",
            "100%|██████████| 1/1 [00:00<00:00,  4.71it/s]\n",
            "100%|██████████| 1/1 [00:00<00:00,  4.94it/s]\n",
            "100%|██████████| 1/1 [00:00<00:00,  5.14it/s]\n",
            "100%|██████████| 1/1 [00:00<00:00,  6.76it/s]\n",
            "100%|██████████| 1/1 [00:00<00:00,  6.44it/s]\n",
            "100%|██████████| 1/1 [00:00<00:00,  6.97it/s]\n",
            "100%|██████████| 1/1 [00:00<00:00,  6.44it/s]\n",
            "100%|██████████| 1/1 [00:00<00:00,  7.37it/s]\n",
            "100%|██████████| 1/1 [00:00<00:00,  6.62it/s]\n",
            "100%|██████████| 1/1 [00:00<00:00,  6.25it/s]\n",
            "100%|██████████| 1/1 [00:00<00:00,  7.33it/s]\n",
            "100%|██████████| 1/1 [00:00<00:00,  7.22it/s]\n",
            "100%|██████████| 1/1 [00:00<00:00,  7.10it/s]\n",
            "100%|██████████| 1/1 [00:00<00:00,  6.37it/s]\n",
            "100%|██████████| 1/1 [00:00<00:00,  7.07it/s]\n",
            "100%|██████████| 1/1 [00:00<00:00,  6.92it/s]\n",
            "100%|██████████| 1/1 [00:00<00:00,  6.84it/s]\n",
            "100%|██████████| 1/1 [00:00<00:00,  6.70it/s]\n",
            "100%|██████████| 1/1 [00:00<00:00,  6.66it/s]\n",
            "100%|██████████| 1/1 [00:00<00:00,  6.30it/s]\n",
            "100%|██████████| 1/1 [00:00<00:00,  7.01it/s]\n",
            "100%|██████████| 1/1 [00:00<00:00,  6.49it/s]\n",
            "100%|██████████| 1/1 [00:00<00:00,  6.87it/s]\n",
            "100%|██████████| 1/1 [00:00<00:00,  6.88it/s]\n",
            "100%|██████████| 1/1 [00:00<00:00,  7.24it/s]\n",
            "100%|██████████| 1/1 [00:00<00:00,  6.27it/s]\n",
            "100%|██████████| 1/1 [00:00<00:00,  6.68it/s]\n",
            "100%|██████████| 1/1 [00:00<00:00,  7.07it/s]\n",
            "100%|██████████| 1/1 [00:00<00:00,  6.56it/s]\n",
            "100%|██████████| 1/1 [00:00<00:00,  6.78it/s]\n",
            "100%|██████████| 1/1 [00:00<00:00,  6.93it/s]\n",
            "100%|██████████| 1/1 [00:00<00:00,  6.89it/s]\n",
            "100%|██████████| 1/1 [00:00<00:00,  6.70it/s]\n",
            "100%|██████████| 1/1 [00:00<00:00,  6.73it/s]\n",
            "100%|██████████| 1/1 [00:00<00:00,  7.04it/s]\n",
            "100%|██████████| 1/1 [00:00<00:00,  5.91it/s]\n",
            "100%|██████████| 1/1 [00:00<00:00,  6.99it/s]\n",
            "100%|██████████| 1/1 [00:00<00:00,  6.68it/s]\n",
            "100%|██████████| 1/1 [00:00<00:00,  6.53it/s]\n",
            "100%|██████████| 1/1 [00:00<00:00,  6.66it/s]\n",
            "100%|██████████| 1/1 [00:00<00:00,  6.86it/s]\n",
            "100%|██████████| 1/1 [00:00<00:00,  6.28it/s]\n",
            "100%|██████████| 1/1 [00:00<00:00,  6.61it/s]\n",
            "100%|██████████| 1/1 [00:00<00:00,  6.89it/s]\n",
            "100%|██████████| 1/1 [00:00<00:00,  6.05it/s]\n",
            "100%|██████████| 1/1 [00:00<00:00,  6.10it/s]\n",
            "100%|██████████| 1/1 [00:00<00:00,  6.76it/s]\n",
            "100%|██████████| 1/1 [00:00<00:00,  6.10it/s]\n",
            "100%|██████████| 1/1 [00:00<00:00,  6.52it/s]\n",
            "100%|██████████| 1/1 [00:00<00:00,  6.83it/s]\n",
            "100%|██████████| 1/1 [00:00<00:00,  7.06it/s]\n",
            "100%|██████████| 1/1 [00:00<00:00,  7.29it/s]\n",
            "100%|██████████| 1/1 [00:00<00:00,  5.36it/s]\n",
            "100%|██████████| 1/1 [00:00<00:00,  6.88it/s]\n",
            "100%|██████████| 1/1 [00:00<00:00,  6.78it/s]\n",
            "100%|██████████| 1/1 [00:00<00:00,  7.37it/s]\n",
            "100%|██████████| 1/1 [00:00<00:00,  7.13it/s]\n",
            "100%|██████████| 1/1 [00:00<00:00,  6.92it/s]\n",
            "100%|██████████| 1/1 [00:00<00:00,  6.54it/s]\n",
            "100%|██████████| 1/1 [00:00<00:00,  6.93it/s]\n",
            "100%|██████████| 1/1 [00:00<00:00,  6.30it/s]\n",
            "100%|██████████| 1/1 [00:00<00:00,  6.58it/s]\n",
            "100%|██████████| 1/1 [00:00<00:00,  6.94it/s]\n",
            "100%|██████████| 1/1 [00:00<00:00,  6.44it/s]\n",
            "100%|██████████| 1/1 [00:00<00:00,  6.90it/s]\n",
            "100%|██████████| 1/1 [00:00<00:00,  5.10it/s]\n",
            "100%|██████████| 1/1 [00:00<00:00,  4.08it/s]\n",
            "100%|██████████| 1/1 [00:00<00:00,  4.76it/s]\n",
            "100%|██████████| 1/1 [00:00<00:00,  4.33it/s]\n",
            "100%|██████████| 1/1 [00:00<00:00,  4.50it/s]\n",
            "100%|██████████| 1/1 [00:00<00:00,  4.65it/s]\n",
            "100%|██████████| 1/1 [00:00<00:00,  4.62it/s]\n",
            "100%|██████████| 1/1 [00:00<00:00,  4.67it/s]\n",
            "100%|██████████| 1/1 [00:00<00:00,  4.66it/s]\n",
            "100%|██████████| 1/1 [00:00<00:00,  5.03it/s]\n",
            "100%|██████████| 1/1 [00:00<00:00,  4.46it/s]\n",
            "100%|██████████| 1/1 [00:00<00:00,  4.66it/s]\n",
            "100%|██████████| 1/1 [00:00<00:00,  4.61it/s]\n",
            "100%|██████████| 1/1 [00:00<00:00,  4.72it/s]\n",
            "100%|██████████| 1/1 [00:00<00:00,  7.34it/s]\n",
            "100%|██████████| 1/1 [00:00<00:00,  6.74it/s]\n",
            "100%|██████████| 1/1 [00:00<00:00,  6.36it/s]\n",
            "100%|██████████| 1/1 [00:00<00:00,  6.77it/s]\n",
            "100%|██████████| 1/1 [00:00<00:00,  6.61it/s]\n",
            "100%|██████████| 1/1 [00:00<00:00,  7.07it/s]\n",
            "100%|██████████| 1/1 [00:00<00:00,  7.35it/s]\n",
            "100%|██████████| 1/1 [00:00<00:00,  5.87it/s]\n",
            "100%|██████████| 1/1 [00:00<00:00,  6.88it/s]\n",
            "100%|██████████| 1/1 [00:00<00:00,  6.13it/s]\n",
            "100%|██████████| 1/1 [00:00<00:00,  7.06it/s]\n",
            "100%|██████████| 1/1 [00:00<00:00,  7.19it/s]\n",
            "100%|██████████| 1/1 [00:00<00:00,  7.10it/s]\n",
            "100%|██████████| 1/1 [00:00<00:00,  7.10it/s]\n",
            "100%|██████████| 1/1 [00:00<00:00,  6.84it/s]\n",
            "100%|██████████| 1/1 [00:00<00:00,  6.96it/s]\n",
            "100%|██████████| 1/1 [00:00<00:00,  6.75it/s]\n",
            "100%|██████████| 1/1 [00:00<00:00,  6.99it/s]\n",
            "100%|██████████| 1/1 [00:00<00:00,  6.46it/s]\n",
            "100%|██████████| 1/1 [00:00<00:00,  6.97it/s]\n",
            "100%|██████████| 1/1 [00:00<00:00,  7.10it/s]\n",
            "100%|██████████| 1/1 [00:00<00:00,  6.47it/s]\n",
            "100%|██████████| 1/1 [00:00<00:00,  7.18it/s]\n",
            "100%|██████████| 1/1 [00:00<00:00,  6.66it/s]\n",
            "100%|██████████| 1/1 [00:00<00:00,  6.29it/s]\n",
            "100%|██████████| 1/1 [00:00<00:00,  6.68it/s]\n",
            "100%|██████████| 1/1 [00:00<00:00,  6.98it/s]\n",
            "100%|██████████| 1/1 [00:00<00:00,  6.46it/s]\n",
            "100%|██████████| 1/1 [00:00<00:00,  5.89it/s]\n",
            "100%|██████████| 1/1 [00:00<00:00,  6.62it/s]\n",
            "100%|██████████| 1/1 [00:00<00:00,  6.87it/s]\n",
            "100%|██████████| 1/1 [00:00<00:00,  6.49it/s]\n",
            "100%|██████████| 1/1 [00:00<00:00,  6.59it/s]\n",
            "100%|██████████| 1/1 [00:00<00:00,  6.25it/s]\n",
            "100%|██████████| 1/1 [00:00<00:00,  5.84it/s]\n",
            "100%|██████████| 1/1 [00:00<00:00,  7.19it/s]\n",
            "100%|██████████| 1/1 [00:00<00:00,  6.93it/s]\n",
            "100%|██████████| 1/1 [00:00<00:00,  6.88it/s]\n",
            "100%|██████████| 1/1 [00:00<00:00,  6.65it/s]\n",
            "100%|██████████| 1/1 [00:00<00:00,  6.39it/s]\n",
            "100%|██████████| 1/1 [00:00<00:00,  6.74it/s]\n",
            "100%|██████████| 1/1 [00:00<00:00,  6.98it/s]\n",
            "100%|██████████| 1/1 [00:00<00:00,  6.87it/s]\n",
            "100%|██████████| 1/1 [00:00<00:00,  6.23it/s]\n",
            "100%|██████████| 1/1 [00:00<00:00,  6.84it/s]\n",
            "100%|██████████| 1/1 [00:00<00:00,  7.11it/s]\n",
            "100%|██████████| 1/1 [00:00<00:00,  6.72it/s]\n",
            "100%|██████████| 1/1 [00:00<00:00,  6.69it/s]\n",
            "100%|██████████| 1/1 [00:00<00:00,  6.99it/s]\n",
            "100%|██████████| 1/1 [00:00<00:00,  6.26it/s]\n",
            "100%|██████████| 1/1 [00:00<00:00,  7.39it/s]\n",
            "100%|██████████| 1/1 [00:00<00:00,  6.68it/s]\n",
            "100%|██████████| 1/1 [00:00<00:00,  7.13it/s]\n",
            "100%|██████████| 1/1 [00:00<00:00,  6.09it/s]\n",
            "100%|██████████| 1/1 [00:00<00:00,  7.30it/s]\n",
            "100%|██████████| 1/1 [00:00<00:00,  6.54it/s]\n",
            "100%|██████████| 1/1 [00:00<00:00,  6.93it/s]\n",
            "100%|██████████| 1/1 [00:00<00:00,  7.11it/s]\n",
            "100%|██████████| 1/1 [00:00<00:00,  6.71it/s]\n",
            "100%|██████████| 1/1 [00:00<00:00,  6.82it/s]\n",
            "100%|██████████| 1/1 [00:00<00:00,  6.68it/s]\n",
            "100%|██████████| 1/1 [00:00<00:00,  7.01it/s]\n",
            "100%|██████████| 1/1 [00:00<00:00,  6.62it/s]\n",
            "100%|██████████| 1/1 [00:00<00:00,  4.44it/s]\n",
            "100%|██████████| 1/1 [00:00<00:00,  4.58it/s]\n",
            "100%|██████████| 1/1 [00:00<00:00,  4.80it/s]\n",
            "100%|██████████| 1/1 [00:00<00:00,  5.46it/s]\n",
            "100%|██████████| 1/1 [00:00<00:00,  4.78it/s]\n",
            "100%|██████████| 1/1 [00:00<00:00,  4.83it/s]\n",
            "100%|██████████| 1/1 [00:00<00:00,  4.52it/s]\n",
            "100%|██████████| 1/1 [00:00<00:00,  4.53it/s]\n",
            "100%|██████████| 1/1 [00:00<00:00,  4.62it/s]\n",
            "100%|██████████| 1/1 [00:00<00:00,  4.81it/s]\n",
            "100%|██████████| 1/1 [00:00<00:00,  4.90it/s]\n",
            "100%|██████████| 1/1 [00:00<00:00,  4.44it/s]\n",
            "100%|██████████| 1/1 [00:00<00:00,  4.40it/s]\n",
            "100%|██████████| 1/1 [00:00<00:00,  4.85it/s]\n",
            "100%|██████████| 1/1 [00:00<00:00,  6.79it/s]\n",
            "100%|██████████| 1/1 [00:00<00:00,  6.99it/s]\n",
            "100%|██████████| 1/1 [00:00<00:00,  6.42it/s]\n",
            "100%|██████████| 1/1 [00:00<00:00,  6.33it/s]\n",
            "100%|██████████| 1/1 [00:00<00:00,  6.87it/s]\n",
            "100%|██████████| 1/1 [00:00<00:00,  6.67it/s]\n",
            "100%|██████████| 1/1 [00:00<00:00,  6.85it/s]\n",
            "100%|██████████| 1/1 [00:00<00:00,  6.65it/s]\n",
            "100%|██████████| 1/1 [00:00<00:00,  6.98it/s]\n",
            "100%|██████████| 1/1 [00:00<00:00,  6.84it/s]\n",
            "100%|██████████| 1/1 [00:00<00:00,  6.59it/s]\n",
            "100%|██████████| 1/1 [00:00<00:00,  6.80it/s]\n",
            "100%|██████████| 1/1 [00:00<00:00,  6.35it/s]\n",
            "100%|██████████| 1/1 [00:00<00:00,  6.86it/s]\n",
            "100%|██████████| 1/1 [00:00<00:00,  7.46it/s]\n",
            "100%|██████████| 1/1 [00:00<00:00,  6.78it/s]\n",
            "100%|██████████| 1/1 [00:00<00:00,  5.48it/s]\n",
            "100%|██████████| 1/1 [00:00<00:00,  6.39it/s]\n",
            "100%|██████████| 1/1 [00:00<00:00,  7.72it/s]\n",
            "100%|██████████| 1/1 [00:00<00:00,  6.88it/s]\n",
            "100%|██████████| 1/1 [00:00<00:00,  6.59it/s]\n",
            "100%|██████████| 1/1 [00:00<00:00,  7.37it/s]\n",
            "100%|██████████| 1/1 [00:00<00:00,  6.36it/s]\n",
            "100%|██████████| 1/1 [00:00<00:00,  6.45it/s]\n",
            "100%|██████████| 1/1 [00:00<00:00,  7.57it/s]\n",
            "100%|██████████| 1/1 [00:00<00:00,  6.97it/s]\n",
            "100%|██████████| 1/1 [00:00<00:00,  6.38it/s]\n",
            "100%|██████████| 1/1 [00:00<00:00,  6.56it/s]\n",
            "100%|██████████| 1/1 [00:00<00:00,  6.80it/s]\n",
            "100%|██████████| 1/1 [00:00<00:00,  6.93it/s]\n",
            "100%|██████████| 1/1 [00:00<00:00,  7.49it/s]\n",
            "100%|██████████| 1/1 [00:00<00:00,  6.63it/s]\n",
            "100%|██████████| 1/1 [00:00<00:00,  5.34it/s]\n",
            "100%|██████████| 1/1 [00:00<00:00,  7.16it/s]\n",
            "100%|██████████| 1/1 [00:00<00:00,  6.43it/s]\n",
            "100%|██████████| 1/1 [00:00<00:00,  6.59it/s]\n",
            "100%|██████████| 1/1 [00:00<00:00,  6.34it/s]\n",
            "100%|██████████| 1/1 [00:00<00:00,  6.30it/s]\n",
            "100%|██████████| 1/1 [00:00<00:00,  6.92it/s]\n",
            "100%|██████████| 1/1 [00:00<00:00,  6.63it/s]\n",
            "100%|██████████| 1/1 [00:00<00:00,  7.34it/s]\n",
            "100%|██████████| 1/1 [00:00<00:00,  6.49it/s]\n",
            "100%|██████████| 1/1 [00:00<00:00,  6.13it/s]\n",
            "100%|██████████| 1/1 [00:00<00:00,  6.55it/s]\n",
            "100%|██████████| 1/1 [00:00<00:00,  7.35it/s]\n",
            "100%|██████████| 1/1 [00:00<00:00,  6.97it/s]\n",
            "100%|██████████| 1/1 [00:00<00:00,  6.51it/s]\n",
            "100%|██████████| 1/1 [00:00<00:00,  6.36it/s]\n",
            "100%|██████████| 1/1 [00:00<00:00,  6.59it/s]\n",
            "100%|██████████| 1/1 [00:00<00:00,  6.47it/s]\n",
            "100%|██████████| 1/1 [00:00<00:00,  7.20it/s]\n",
            "100%|██████████| 1/1 [00:00<00:00,  6.49it/s]\n",
            "100%|██████████| 1/1 [00:00<00:00,  6.26it/s]\n",
            "100%|██████████| 1/1 [00:00<00:00,  7.23it/s]\n",
            "100%|██████████| 1/1 [00:00<00:00,  6.79it/s]\n",
            "100%|██████████| 1/1 [00:00<00:00,  6.53it/s]\n",
            "100%|██████████| 1/1 [00:00<00:00,  6.72it/s]\n",
            "100%|██████████| 1/1 [00:00<00:00,  6.36it/s]\n",
            "100%|██████████| 1/1 [00:00<00:00,  7.64it/s]\n",
            "100%|██████████| 1/1 [00:00<00:00,  7.19it/s]\n",
            "100%|██████████| 1/1 [00:00<00:00,  7.43it/s]\n",
            "100%|██████████| 1/1 [00:00<00:00,  6.15it/s]\n",
            "100%|██████████| 1/1 [00:00<00:00,  7.00it/s]\n",
            "100%|██████████| 1/1 [00:00<00:00,  5.48it/s]\n",
            "100%|██████████| 1/1 [00:00<00:00,  4.96it/s]\n",
            "100%|██████████| 1/1 [00:00<00:00,  5.29it/s]\n",
            "100%|██████████| 1/1 [00:00<00:00,  4.86it/s]\n",
            "100%|██████████| 1/1 [00:00<00:00,  4.55it/s]\n",
            "100%|██████████| 1/1 [00:00<00:00,  4.93it/s]\n",
            "100%|██████████| 1/1 [00:00<00:00,  4.07it/s]\n",
            "100%|██████████| 1/1 [00:00<00:00,  4.61it/s]\n",
            "100%|██████████| 1/1 [00:00<00:00,  4.70it/s]\n",
            "100%|██████████| 1/1 [00:00<00:00,  4.45it/s]\n",
            "100%|██████████| 1/1 [00:00<00:00,  4.74it/s]\n",
            "100%|██████████| 1/1 [00:00<00:00,  4.67it/s]\n",
            "100%|██████████| 1/1 [00:00<00:00,  4.14it/s]\n",
            "100%|██████████| 1/1 [00:00<00:00,  4.45it/s]\n",
            "100%|██████████| 1/1 [00:00<00:00,  4.60it/s]\n",
            "100%|██████████| 1/1 [00:00<00:00,  6.57it/s]\n",
            "100%|██████████| 1/1 [00:00<00:00,  6.61it/s]\n",
            "100%|██████████| 1/1 [00:00<00:00,  6.69it/s]\n",
            "100%|██████████| 1/1 [00:00<00:00,  6.66it/s]\n",
            "100%|██████████| 1/1 [00:00<00:00,  5.71it/s]\n",
            "100%|██████████| 1/1 [00:00<00:00,  6.68it/s]\n",
            "100%|██████████| 1/1 [00:00<00:00,  6.75it/s]\n",
            "100%|██████████| 1/1 [00:00<00:00,  6.65it/s]\n",
            "100%|██████████| 1/1 [00:00<00:00,  6.29it/s]\n",
            "100%|██████████| 1/1 [00:00<00:00,  6.83it/s]\n",
            "100%|██████████| 1/1 [00:00<00:00,  6.13it/s]\n",
            "100%|██████████| 1/1 [00:00<00:00,  6.47it/s]\n",
            "100%|██████████| 1/1 [00:00<00:00,  6.41it/s]\n",
            "100%|██████████| 1/1 [00:00<00:00,  6.26it/s]\n",
            "100%|██████████| 1/1 [00:00<00:00,  6.63it/s]\n",
            "100%|██████████| 1/1 [00:00<00:00,  5.78it/s]\n",
            "100%|██████████| 1/1 [00:00<00:00,  6.22it/s]\n",
            "100%|██████████| 1/1 [00:00<00:00,  6.50it/s]\n",
            "100%|██████████| 1/1 [00:00<00:00,  6.29it/s]\n",
            "100%|██████████| 1/1 [00:00<00:00,  6.90it/s]\n",
            "100%|██████████| 1/1 [00:00<00:00,  6.48it/s]\n",
            "100%|██████████| 1/1 [00:00<00:00,  6.33it/s]\n",
            "100%|██████████| 1/1 [00:00<00:00,  6.31it/s]\n",
            "100%|██████████| 1/1 [00:00<00:00,  7.31it/s]\n",
            "100%|██████████| 1/1 [00:00<00:00,  6.46it/s]\n",
            "100%|██████████| 1/1 [00:00<00:00,  6.37it/s]\n",
            "100%|██████████| 1/1 [00:00<00:00,  6.36it/s]\n",
            "100%|██████████| 1/1 [00:00<00:00,  7.29it/s]\n",
            "100%|██████████| 1/1 [00:00<00:00,  6.17it/s]\n",
            "100%|██████████| 1/1 [00:00<00:00,  6.02it/s]\n",
            "100%|██████████| 1/1 [00:00<00:00,  7.05it/s]\n",
            "100%|██████████| 1/1 [00:00<00:00,  6.52it/s]\n",
            "100%|██████████| 1/1 [00:00<00:00,  6.60it/s]\n",
            "100%|██████████| 1/1 [00:00<00:00,  6.17it/s]\n",
            "100%|██████████| 1/1 [00:00<00:00,  7.16it/s]\n",
            "100%|██████████| 1/1 [00:00<00:00,  6.40it/s]\n",
            "100%|██████████| 1/1 [00:00<00:00,  6.92it/s]\n",
            "100%|██████████| 1/1 [00:00<00:00,  6.48it/s]\n",
            "100%|██████████| 1/1 [00:00<00:00,  6.14it/s]\n",
            "100%|██████████| 1/1 [00:00<00:00,  6.54it/s]\n",
            "100%|██████████| 1/1 [00:00<00:00,  6.68it/s]\n",
            "100%|██████████| 1/1 [00:00<00:00,  6.69it/s]\n",
            "100%|██████████| 1/1 [00:00<00:00,  6.40it/s]\n",
            "100%|██████████| 1/1 [00:00<00:00,  5.78it/s]\n",
            "100%|██████████| 1/1 [00:00<00:00,  6.56it/s]\n",
            "100%|██████████| 1/1 [00:00<00:00,  6.02it/s]\n",
            "100%|██████████| 1/1 [00:00<00:00,  6.48it/s]\n",
            "100%|██████████| 1/1 [00:00<00:00,  6.46it/s]\n",
            "100%|██████████| 1/1 [00:00<00:00,  5.90it/s]\n",
            "100%|██████████| 1/1 [00:00<00:00,  6.17it/s]\n",
            "100%|██████████| 1/1 [00:00<00:00,  6.12it/s]\n",
            "100%|██████████| 1/1 [00:00<00:00,  6.17it/s]\n",
            "100%|██████████| 1/1 [00:00<00:00,  6.92it/s]\n",
            "100%|██████████| 1/1 [00:00<00:00,  5.67it/s]\n",
            "100%|██████████| 1/1 [00:00<00:00,  7.03it/s]\n",
            "100%|██████████| 1/1 [00:00<00:00,  6.95it/s]\n",
            "100%|██████████| 1/1 [00:00<00:00,  7.45it/s]\n",
            "100%|██████████| 1/1 [00:00<00:00,  6.09it/s]\n",
            "100%|██████████| 1/1 [00:00<00:00,  5.51it/s]\n",
            "100%|██████████| 1/1 [00:00<00:00,  6.80it/s]\n",
            "100%|██████████| 1/1 [00:00<00:00,  5.81it/s]\n",
            "100%|██████████| 1/1 [00:00<00:00,  4.73it/s]\n",
            "100%|██████████| 1/1 [00:00<00:00,  4.24it/s]\n",
            "100%|██████████| 1/1 [00:00<00:00,  4.61it/s]\n",
            "100%|██████████| 1/1 [00:00<00:00,  4.44it/s]\n",
            "100%|██████████| 1/1 [00:00<00:00,  4.46it/s]\n",
            "100%|██████████| 1/1 [00:00<00:00,  4.55it/s]\n",
            "100%|██████████| 1/1 [00:00<00:00,  4.71it/s]\n",
            "100%|██████████| 1/1 [00:00<00:00,  4.48it/s]\n",
            "100%|██████████| 1/1 [00:00<00:00,  4.53it/s]\n",
            "100%|██████████| 1/1 [00:00<00:00,  4.73it/s]\n",
            "100%|██████████| 1/1 [00:00<00:00,  4.82it/s]\n",
            "100%|██████████| 1/1 [00:00<00:00,  4.24it/s]\n",
            "100%|██████████| 1/1 [00:00<00:00,  4.28it/s]\n",
            "100%|██████████| 1/1 [00:00<00:00,  5.94it/s]\n",
            "100%|██████████| 1/1 [00:00<00:00,  6.62it/s]\n",
            "100%|██████████| 1/1 [00:00<00:00,  6.64it/s]\n",
            "100%|██████████| 1/1 [00:00<00:00,  6.11it/s]\n",
            "100%|██████████| 1/1 [00:00<00:00,  6.11it/s]\n",
            "100%|██████████| 1/1 [00:00<00:00,  6.38it/s]\n",
            "100%|██████████| 1/1 [00:00<00:00,  7.15it/s]\n",
            "100%|██████████| 1/1 [00:00<00:00,  6.05it/s]\n",
            "100%|██████████| 1/1 [00:00<00:00,  6.28it/s]\n",
            "100%|██████████| 1/1 [00:00<00:00,  6.29it/s]\n",
            "100%|██████████| 1/1 [00:00<00:00,  6.90it/s]\n",
            "100%|██████████| 1/1 [00:00<00:00,  6.49it/s]\n",
            "100%|██████████| 1/1 [00:00<00:00,  6.86it/s]\n",
            "100%|██████████| 1/1 [00:00<00:00,  5.87it/s]\n",
            "100%|██████████| 1/1 [00:00<00:00,  6.41it/s]\n",
            "100%|██████████| 1/1 [00:00<00:00,  7.15it/s]\n",
            "100%|██████████| 1/1 [00:00<00:00,  7.14it/s]\n",
            "100%|██████████| 1/1 [00:00<00:00,  6.04it/s]\n",
            "100%|██████████| 1/1 [00:00<00:00,  5.81it/s]\n",
            "100%|██████████| 1/1 [00:00<00:00,  6.65it/s]\n",
            "100%|██████████| 1/1 [00:00<00:00,  6.81it/s]\n",
            "100%|██████████| 1/1 [00:00<00:00,  6.77it/s]\n",
            "100%|██████████| 1/1 [00:00<00:00,  6.59it/s]\n",
            "100%|██████████| 1/1 [00:00<00:00,  6.34it/s]\n",
            "100%|██████████| 1/1 [00:00<00:00,  6.02it/s]\n",
            "100%|██████████| 1/1 [00:00<00:00,  6.99it/s]\n",
            "100%|██████████| 1/1 [00:00<00:00,  6.00it/s]\n",
            "100%|██████████| 1/1 [00:00<00:00,  6.12it/s]\n",
            "100%|██████████| 1/1 [00:00<00:00,  6.22it/s]\n",
            "100%|██████████| 1/1 [00:00<00:00,  6.22it/s]\n",
            "100%|██████████| 1/1 [00:00<00:00,  6.62it/s]\n",
            "100%|██████████| 1/1 [00:00<00:00,  6.43it/s]\n",
            "100%|██████████| 1/1 [00:00<00:00,  6.41it/s]\n",
            "100%|██████████| 1/1 [00:00<00:00,  6.05it/s]\n",
            "100%|██████████| 1/1 [00:00<00:00,  6.63it/s]\n",
            "100%|██████████| 1/1 [00:00<00:00,  6.56it/s]\n",
            "100%|██████████| 1/1 [00:00<00:00,  6.03it/s]\n",
            "100%|██████████| 1/1 [00:00<00:00,  6.77it/s]\n",
            "100%|██████████| 1/1 [00:00<00:00,  7.10it/s]\n",
            "100%|██████████| 1/1 [00:00<00:00,  6.51it/s]\n",
            "100%|██████████| 1/1 [00:00<00:00,  6.43it/s]\n",
            "100%|██████████| 1/1 [00:00<00:00,  5.33it/s]\n",
            "100%|██████████| 1/1 [00:00<00:00,  6.24it/s]\n",
            "100%|██████████| 1/1 [00:00<00:00,  6.51it/s]\n",
            "100%|██████████| 1/1 [00:00<00:00,  7.05it/s]\n",
            "100%|██████████| 1/1 [00:00<00:00,  6.13it/s]\n",
            "100%|██████████| 1/1 [00:00<00:00,  6.43it/s]\n",
            "100%|██████████| 1/1 [00:00<00:00,  7.02it/s]\n",
            "100%|██████████| 1/1 [00:00<00:00,  6.10it/s]\n",
            "100%|██████████| 1/1 [00:00<00:00,  6.34it/s]\n",
            "100%|██████████| 1/1 [00:00<00:00,  5.83it/s]\n",
            "100%|██████████| 1/1 [00:00<00:00,  5.85it/s]\n",
            "100%|██████████| 1/1 [00:00<00:00,  6.33it/s]\n",
            "100%|██████████| 1/1 [00:00<00:00,  6.57it/s]\n",
            "100%|██████████| 1/1 [00:00<00:00,  5.66it/s]\n",
            "100%|██████████| 1/1 [00:00<00:00,  6.47it/s]\n",
            "100%|██████████| 1/1 [00:00<00:00,  6.02it/s]\n",
            "100%|██████████| 1/1 [00:00<00:00,  6.01it/s]\n",
            "100%|██████████| 1/1 [00:00<00:00,  6.12it/s]\n",
            "100%|██████████| 1/1 [00:00<00:00,  6.79it/s]\n",
            "100%|██████████| 1/1 [00:00<00:00,  4.38it/s]\n",
            "100%|██████████| 1/1 [00:00<00:00,  3.73it/s]\n",
            "100%|██████████| 1/1 [00:00<00:00,  4.32it/s]\n",
            "100%|██████████| 1/1 [00:00<00:00,  5.04it/s]\n",
            "100%|██████████| 1/1 [00:00<00:00,  4.50it/s]\n",
            "100%|██████████| 1/1 [00:00<00:00,  4.77it/s]\n",
            "100%|██████████| 1/1 [00:00<00:00,  4.41it/s]\n",
            "100%|██████████| 1/1 [00:00<00:00,  4.99it/s]\n",
            "100%|██████████| 1/1 [00:00<00:00,  4.71it/s]\n",
            "100%|██████████| 1/1 [00:00<00:00,  4.52it/s]\n",
            "100%|██████████| 1/1 [00:00<00:00,  4.56it/s]\n",
            "100%|██████████| 1/1 [00:00<00:00,  4.52it/s]\n",
            "100%|██████████| 1/1 [00:00<00:00,  4.74it/s]\n",
            "100%|██████████| 1/1 [00:00<00:00,  4.33it/s]\n",
            "100%|██████████| 1/1 [00:00<00:00,  5.04it/s]\n",
            "100%|██████████| 1/1 [00:00<00:00,  6.66it/s]\n",
            "100%|██████████| 1/1 [00:00<00:00,  6.31it/s]\n",
            "100%|██████████| 1/1 [00:00<00:00,  6.93it/s]\n",
            "100%|██████████| 1/1 [00:00<00:00,  6.66it/s]\n",
            "100%|██████████| 1/1 [00:00<00:00,  6.34it/s]\n",
            "100%|██████████| 1/1 [00:00<00:00,  6.49it/s]\n",
            "100%|██████████| 1/1 [00:00<00:00,  5.98it/s]\n",
            "100%|██████████| 1/1 [00:00<00:00,  6.30it/s]\n",
            "100%|██████████| 1/1 [00:00<00:00,  6.30it/s]\n",
            "100%|██████████| 1/1 [00:00<00:00,  5.55it/s]\n",
            "100%|██████████| 1/1 [00:00<00:00,  5.86it/s]\n",
            "100%|██████████| 1/1 [00:00<00:00,  5.43it/s]\n",
            "100%|██████████| 1/1 [00:00<00:00,  5.69it/s]\n",
            "100%|██████████| 1/1 [00:00<00:00,  6.27it/s]\n",
            "100%|██████████| 1/1 [00:00<00:00,  5.58it/s]\n",
            "100%|██████████| 1/1 [00:00<00:00,  6.05it/s]\n",
            "100%|██████████| 1/1 [00:00<00:00,  5.64it/s]\n",
            "100%|██████████| 1/1 [00:00<00:00,  6.34it/s]\n",
            "100%|██████████| 1/1 [00:00<00:00,  6.31it/s]\n",
            "100%|██████████| 1/1 [00:00<00:00,  6.04it/s]\n",
            "100%|██████████| 1/1 [00:00<00:00,  5.53it/s]\n",
            "100%|██████████| 1/1 [00:00<00:00,  5.58it/s]\n",
            "100%|██████████| 1/1 [00:00<00:00,  6.19it/s]\n",
            "100%|██████████| 1/1 [00:00<00:00,  6.88it/s]\n",
            "100%|██████████| 1/1 [00:00<00:00,  6.57it/s]\n",
            "100%|██████████| 1/1 [00:00<00:00,  6.49it/s]\n",
            "100%|██████████| 1/1 [00:00<00:00,  5.96it/s]\n",
            "100%|██████████| 1/1 [00:00<00:00,  6.00it/s]\n",
            "100%|██████████| 1/1 [00:00<00:00,  6.10it/s]\n",
            "100%|██████████| 1/1 [00:00<00:00,  6.52it/s]\n",
            "100%|██████████| 1/1 [00:00<00:00,  6.43it/s]\n",
            "100%|██████████| 1/1 [00:00<00:00,  5.44it/s]\n",
            "100%|██████████| 1/1 [00:00<00:00,  6.66it/s]\n",
            "100%|██████████| 1/1 [00:00<00:00,  6.29it/s]\n",
            "100%|██████████| 1/1 [00:00<00:00,  5.36it/s]\n",
            "100%|██████████| 1/1 [00:00<00:00,  5.43it/s]\n",
            "100%|██████████| 1/1 [00:00<00:00,  5.84it/s]\n",
            "100%|██████████| 1/1 [00:00<00:00,  6.29it/s]\n",
            "100%|██████████| 1/1 [00:00<00:00,  5.88it/s]\n",
            "100%|██████████| 1/1 [00:00<00:00,  6.42it/s]\n",
            "100%|██████████| 1/1 [00:00<00:00,  5.82it/s]\n",
            "100%|██████████| 1/1 [00:00<00:00,  6.02it/s]\n",
            "100%|██████████| 1/1 [00:00<00:00,  6.74it/s]\n",
            "100%|██████████| 1/1 [00:00<00:00,  6.31it/s]\n",
            "100%|██████████| 1/1 [00:00<00:00,  5.97it/s]\n",
            "100%|██████████| 1/1 [00:00<00:00,  5.93it/s]\n",
            "100%|██████████| 1/1 [00:00<00:00,  5.32it/s]\n",
            "100%|██████████| 1/1 [00:00<00:00,  6.36it/s]\n",
            "100%|██████████| 1/1 [00:00<00:00,  6.73it/s]\n",
            "100%|██████████| 1/1 [00:00<00:00,  6.46it/s]\n",
            "100%|██████████| 1/1 [00:00<00:00,  5.69it/s]\n",
            "100%|██████████| 1/1 [00:00<00:00,  5.78it/s]\n",
            "100%|██████████| 1/1 [00:00<00:00,  6.27it/s]\n",
            "100%|██████████| 1/1 [00:00<00:00,  6.42it/s]\n",
            "100%|██████████| 1/1 [00:00<00:00,  6.29it/s]\n",
            "100%|██████████| 1/1 [00:00<00:00,  6.52it/s]\n",
            "100%|██████████| 1/1 [00:00<00:00,  5.63it/s]\n",
            "100%|██████████| 1/1 [00:00<00:00,  4.16it/s]\n",
            "100%|██████████| 1/1 [00:00<00:00,  3.94it/s]\n",
            "100%|██████████| 1/1 [00:00<00:00,  4.37it/s]\n",
            "100%|██████████| 1/1 [00:00<00:00,  4.10it/s]\n",
            "100%|██████████| 1/1 [00:00<00:00,  4.18it/s]\n",
            "100%|██████████| 1/1 [00:00<00:00,  4.50it/s]\n",
            "100%|██████████| 1/1 [00:00<00:00,  4.39it/s]\n",
            "100%|██████████| 1/1 [00:00<00:00,  4.37it/s]\n",
            "100%|██████████| 1/1 [00:00<00:00,  4.38it/s]\n",
            "100%|██████████| 1/1 [00:00<00:00,  4.10it/s]\n",
            "100%|██████████| 1/1 [00:00<00:00,  4.50it/s]\n",
            "100%|██████████| 1/1 [00:00<00:00,  4.41it/s]\n",
            "100%|██████████| 1/1 [00:00<00:00,  4.55it/s]\n",
            "100%|██████████| 1/1 [00:00<00:00,  5.61it/s]\n",
            "100%|██████████| 1/1 [00:00<00:00,  6.20it/s]\n",
            "100%|██████████| 1/1 [00:00<00:00,  6.10it/s]\n",
            "100%|██████████| 1/1 [00:00<00:00,  6.60it/s]\n",
            "100%|██████████| 1/1 [00:00<00:00,  6.44it/s]\n",
            "100%|██████████| 1/1 [00:00<00:00,  6.44it/s]\n",
            "100%|██████████| 1/1 [00:00<00:00,  6.12it/s]\n",
            "100%|██████████| 1/1 [00:00<00:00,  5.75it/s]\n",
            "100%|██████████| 1/1 [00:00<00:00,  6.11it/s]\n"
          ]
        },
        {
          "output_type": "stream",
          "name": "stdout",
          "text": [
            "Final loss 0.505859375\n"
          ]
        },
        {
          "output_type": "display_data",
          "data": {
            "text/plain": [
              "<Figure size 432x288 with 1 Axes>"
            ],
            "image/png": "[encoded data removed]"
          },
          "metadata": {
            "needs_background": "light"
          }
        }
      ]
    },
    {
      "cell_type": "code",
      "source": [
        "choices=list(np.load('test.npy'))\n",
        "mask= torch.zeros(32 * 32)\n",
        "mask[choices] = 1\n",
        "mask          = mask.view(32,32)\n",
        "mp.imshow(mask)"
      ],
      "metadata": {
        "colab": {
          "base_uri": "https://localhost:8080/",
          "height": 284
        },
        "id": "pDDAJ8i4Qq0m",
        "outputId": "656254ad-4427-44a0-d722-4c5543858eb0"
      },
      "execution_count": null,
      "outputs": [
        {
          "output_type": "execute_result",
          "data": {
            "text/plain": [
              "<matplotlib.image.AxesImage at 0x7f2910bf5fd0>"
            ]
          },
          "metadata": {},
          "execution_count": 83
        },
        {
          "output_type": "display_data",
          "data": {
            "text/plain": [
              "<Figure size 432x288 with 1 Axes>"
            ],
            "image/png": "[encoded data removed]"
          },
          "metadata": {
            "needs_background": "light"
          }
        }
      ]
    },
    {
      "cell_type": "code",
      "source": [
        "tau = ((10, 0.52), (100, 0.4609), (1000, ))"
      ],
      "metadata": {
        "id": "ly6JNvooWyUH"
      },
      "execution_count": null,
      "outputs": []
    },
    {
      "cell_type": "code",
      "source": [
        "plt.imshow(mask1)\n",
        "plt.colorbar()"
      ],
      "metadata": {
        "colab": {
          "base_uri": "https://localhost:8080/",
          "height": 287
        },
        "id": "voOacMFkZpbU",
        "outputId": "8189afca-b08d-460c-9ddf-ce93e65151d9"
      },
      "execution_count": null,
      "outputs": [
        {
          "output_type": "execute_result",
          "data": {
            "text/plain": [
              "<matplotlib.colorbar.Colorbar at 0x7fb50d8ac6a0>"
            ]
          },
          "metadata": {},
          "execution_count": 31
        },
        {
          "output_type": "display_data",
          "data": {
            "text/plain": [
              "<Figure size 432x288 with 2 Axes>"
            ],
            "image/png": "[encoded data removed]"
          },
          "metadata": {
            "needs_background": "light"
          }
        }
      ]
    },
    {
      "cell_type": "code",
      "source": [
        "ep_0 = torch.load(\"results/ep_0\")\n",
        "final0 = ep_0.squeeze(0).permute(1, 2, 0).detach()\n",
        "final0 = (final0 > 0.5).float()\n",
        "plt.imshow(final0)\n",
        "plt.colorbar()"
      ],
      "metadata": {
        "colab": {
          "base_uri": "https://localhost:8080/",
          "height": 287
        },
        "id": "flFJ5DLHiFDY",
        "outputId": "c2fbd847-f215-4ac8-9756-2c2329ad6809"
      },
      "execution_count": null,
      "outputs": [
        {
          "output_type": "execute_result",
          "data": {
            "text/plain": [
              "<matplotlib.colorbar.Colorbar at 0x7f0e41a9cfd0>"
            ]
          },
          "metadata": {},
          "execution_count": 30
        },
        {
          "output_type": "display_data",
          "data": {
            "text/plain": [
              "<Figure size 432x288 with 2 Axes>"
            ],
            "image/png": "[encoded data removed]"
          },
          "metadata": {
            "needs_background": "light"
          }
        }
      ]
    },
    {
      "cell_type": "code",
      "source": [
        "ep_1 = torch.load(\"results/ep_999\")\n",
        "final1 = ep_1.squeeze(0).permute(1, 2, 0).detach()\n",
        "final1 = (final1 > 0.5).float()\n",
        "plt.imshow(final1)\n",
        "plt.colorbar()"
      ],
      "metadata": {
        "colab": {
          "base_uri": "https://localhost:8080/",
          "height": 287
        },
        "id": "JHdK3qCpK1bh",
        "outputId": "efdf148a-2003-4d08-884a-c049ee711cfe"
      },
      "execution_count": null,
      "outputs": [
        {
          "output_type": "execute_result",
          "data": {
            "text/plain": [
              "<matplotlib.colorbar.Colorbar at 0x7f0e419d2c10>"
            ]
          },
          "metadata": {},
          "execution_count": 31
        },
        {
          "output_type": "display_data",
          "data": {
            "text/plain": [
              "<Figure size 432x288 with 2 Axes>"
            ],
            "image/png": "[encoded data removed]"
          },
          "metadata": {
            "needs_background": "light"
          }
        }
      ]
    },
    {
      "cell_type": "code",
      "source": [
        "from matplotlib.pyplot import figure\n",
        "\n",
        "figure(figsize=(14, 8), dpi=80)\n",
        "\n",
        "\n",
        "plt.subplot(1, 4, 1)\n",
        "plt.imshow(mask1)\n",
        "\n",
        "plt.title(\"Input random mask\")\n",
        "\n",
        "plt.subplot(1, 4, 2)\n",
        "plt.imshow(final0)\n",
        "\n",
        "plt.title(\"Mask after 1st pass\")\n",
        "\n",
        "plt.subplot(1, 4, 3)\n",
        "plt.imshow(final1)\n",
        "\n",
        "plt.title(\"Final mask\")\n",
        "\n",
        "plt.subplot(1, 4, 4)\n",
        "plt.imshow(mask)\n",
        "\n",
        "plt.title(\"Oracle mask\")"
      ],
      "metadata": {
        "colab": {
          "base_uri": "https://localhost:8080/",
          "height": 274
        },
        "id": "ZW-ZTDWOMEq1",
        "outputId": "6362f985-3c7a-4fb1-9137-dd1500473124"
      },
      "execution_count": null,
      "outputs": [
        {
          "output_type": "execute_result",
          "data": {
            "text/plain": [
              "Text(0.5, 1.0, 'Oracle mask')"
            ]
          },
          "metadata": {},
          "execution_count": 41
        },
        {
          "output_type": "display_data",
          "data": {
            "text/plain": [
              "<Figure size 1120x640 with 4 Axes>"
            ],
            "image/png": "[encoded data removed]"
          },
          "metadata": {
            "needs_background": "light"
          }
        }
      ]
    },
    {
      "cell_type": "code",
      "source": [
        "mask = torch.zeros(32, 32)"
      ],
      "metadata": {
        "id": "BSFy-LUlNbvt"
      },
      "execution_count": null,
      "outputs": []
    },
    {
      "cell_type": "code",
      "source": [
        "mask.shape"
      ],
      "metadata": {
        "colab": {
          "base_uri": "https://localhost:8080/"
        },
        "id": "zWnJhKhiTceZ",
        "outputId": "da02612a-5ce0-4f2f-cf3c-0234cffafc46"
      },
      "execution_count": null,
      "outputs": [
        {
          "output_type": "execute_result",
          "data": {
            "text/plain": [
              "torch.Size([32, 32])"
            ]
          },
          "metadata": {},
          "execution_count": 37
        }
      ]
    },
    {
      "cell_type": "code",
      "source": [
        "mask[:, :16] = 1"
      ],
      "metadata": {
        "id": "JWsCh2GJTggB"
      },
      "execution_count": null,
      "outputs": []
    },
    {
      "cell_type": "code",
      "source": [
        "plt.imshow(mask)"
      ],
      "metadata": {
        "colab": {
          "base_uri": "https://localhost:8080/",
          "height": 284
        },
        "id": "_UDV0XocUTg7",
        "outputId": "3175db98-af30-4608-ac68-040906814787"
      },
      "execution_count": null,
      "outputs": [
        {
          "output_type": "execute_result",
          "data": {
            "text/plain": [
              "<matplotlib.image.AxesImage at 0x7f0e45840490>"
            ]
          },
          "metadata": {},
          "execution_count": 21
        },
        {
          "output_type": "display_data",
          "data": {
            "text/plain": [
              "<Figure size 432x288 with 1 Axes>"
            ],
            "image/png": "[encoded data removed]"
          },
          "metadata": {
            "needs_background": "light"
          }
        }
      ]
    },
    {
      "cell_type": "code",
      "source": [
        "torch.save(mask, \"labels/left_mask\")"
      ],
      "metadata": {
        "id": "uJMaypc2UUQQ"
      },
      "execution_count": null,
      "outputs": []
    },
    {
      "cell_type": "code",
      "source": [
        "p = torch.load(\"labels/left_mask\")\n",
        "plt.imshow(p)"
      ],
      "metadata": {
        "colab": {
          "base_uri": "https://localhost:8080/",
          "height": 284
        },
        "id": "VrEpyrLlUyK7",
        "outputId": "f32481ee-8ed7-4e35-9b9c-1b59db62c382"
      },
      "execution_count": null,
      "outputs": [
        {
          "output_type": "execute_result",
          "data": {
            "text/plain": [
              "<matplotlib.image.AxesImage at 0x7f0e42f4b160>"
            ]
          },
          "metadata": {},
          "execution_count": 24
        },
        {
          "output_type": "display_data",
          "data": {
            "text/plain": [
              "<Figure size 432x288 with 1 Axes>"
            ],
            "image/png": "[encoded data removed]"
          },
          "metadata": {
            "needs_background": "light"
          }
        }
      ]
    },
    {
      "cell_type": "code",
      "source": [
        "%rm -rf labels/"
      ],
      "metadata": {
        "id": "kUliEB5DVf5Y"
      },
      "execution_count": null,
      "outputs": []
    },
    {
      "cell_type": "code",
      "source": [
        "%mkdir labels/"
      ],
      "metadata": {
        "id": "g-zScbXRWfi7"
      },
      "execution_count": null,
      "outputs": []
    },
    {
      "cell_type": "code",
      "source": [
        "final_to = torch.load(\"results/ep_999\")\n",
        "final_to = final_to.squeeze(0).permute(1, 2, 0).detach()\n",
        "final_to = (final_to > 0.5).float()\n",
        "plt.imshow(final_to)\n",
        "plt.colorbar()"
      ],
      "metadata": {
        "colab": {
          "base_uri": "https://localhost:8080/",
          "height": 287
        },
        "id": "QQfPq3mkWhhZ",
        "outputId": "301d8632-304c-4d81-ae41-222d6af724ab"
      },
      "execution_count": null,
      "outputs": [
        {
          "output_type": "execute_result",
          "data": {
            "text/plain": [
              "<matplotlib.colorbar.Colorbar at 0x7f0e41b5d2e0>"
            ]
          },
          "metadata": {},
          "execution_count": 29
        },
        {
          "output_type": "display_data",
          "data": {
            "text/plain": [
              "<Figure size 432x288 with 2 Axes>"
            ],
            "image/png": "[encoded data removed]"
          },
          "metadata": {
            "needs_background": "light"
          }
        }
      ]
    },
    {
      "cell_type": "code",
      "source": [],
      "metadata": {
        "id": "ZCzMthVUX8Fw"
      },
      "execution_count": null,
      "outputs": []
    }
  ]
}